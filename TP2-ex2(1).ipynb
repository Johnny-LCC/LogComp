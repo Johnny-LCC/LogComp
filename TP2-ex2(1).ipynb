{
 "cells": [
  {
   "cell_type": "markdown",
   "id": "dde12177-8977-48f2-8709-603e7cb757be",
   "metadata": {
    "scrolled": true
   },
   "source": [
    "## Enunciado\n",
    "\n",
    "Considere o problema descrito no documento **+Lógica Computacional: Multiplicação de Inteiros**. Nesse documento, usa-se um “Control Flow Automaton” como modelo do programa imperativo que calcula a multiplicação de inteiros positivos representados por vetores de bits.\n",
    "\n",
    "Pretende-se:\n",
    "\n",
    "1. **Construir um SFOTS**, usando `BitVec` de tamanho \\( n \\), que descreva o comportamento deste autômato. Para isso:\n",
    "   - Identifique e codifique em `Z3` ou `pySMT` as variáveis do modelo, o estado inicial, a relação de transição e o estado de erro.\n",
    "\n",
    "2. **Usar \\( k \\)-indução** para verificar no SFOTS se a propriedade \\( (x \\times y + z = a \\times b) \\) é um invariante do seu comportamento.\n",
    "\n",
    "3. **Verificar a segurança do programa**, usando \\( k \\)-indução no FOTS acima e adicionando ao estado inicial a condição \\( (a < 2^{n/2}) \\land (b < 2^{n/2}) \\). Prove que, com tal estado inicial, o estado de erro nunca é acessível.\n",
    "\n"
   ]
  },
  {
   "cell_type": "markdown",
   "id": "57892a1c-3849-4714-aa24-e355d64ac64f",
   "metadata": {},
   "source": [
    "## Resolução"
   ]
  },
  {
   "cell_type": "markdown",
   "id": "90f4de56-c7b3-41f1-bc1d-67a7da4286c3",
   "metadata": {},
   "source": [
    "**Safe First Order Transition Systems (SFOTS)** são modelos de sistemas dinâmicos definidos por\n",
    "$\\:\\:\\:\\Sigma\\;\\equiv\\;\\langle\\,\\mathsf{X}\\,,\\,\\mathsf{next}\\,,\\,\\mathsf{I}\\,,\\,\\mathsf{T}\\,,\\,\\mathsf{E}\\,\\rangle\\:\\:\\:$\n",
    "onde \n",
    "$\\,\\mathsf{X}\\,$ é o conjunto das variáveis base que define o espaço de estados,\n",
    "$\\,\\mathsf{next}\\,$ é o operador que gera os vários “clones” dessas variáveis,\n",
    "$\\;\\mathsf{I}\\;$ é o predicado que determina os estados iniciais,\n",
    "$\\;\\mathsf{T}\\;$ é o predicado que define a relação de transição entre estados, e\n",
    "$\\;\\mathsf{E}\\;$ é o predicado que define uma condição de erro."
   ]
  },
  {
   "cell_type": "code",
   "execution_count": 1,
   "id": "b3073627-15e0-493c-8c40-3e2aa140eefd",
   "metadata": {},
   "outputs": [
    {
     "ename": "ImportError",
     "evalue": "cannot import name 'BVUlt' from 'pysmt.shortcuts' (C:\\Users\\HP\\anaconda3\\envs\\logica\\lib\\site-packages\\pysmt\\shortcuts.py)",
     "output_type": "error",
     "traceback": [
      "\u001b[1;31m---------------------------------------------------------------------------\u001b[0m",
      "\u001b[1;31mImportError\u001b[0m                               Traceback (most recent call last)",
      "Cell \u001b[1;32mIn[1], line 1\u001b[0m\n\u001b[1;32m----> 1\u001b[0m \u001b[38;5;28;01mfrom\u001b[39;00m \u001b[38;5;21;01mpysmt\u001b[39;00m\u001b[38;5;21;01m.\u001b[39;00m\u001b[38;5;21;01mshortcuts\u001b[39;00m \u001b[38;5;28;01mimport\u001b[39;00m Symbol, And, Or, Not, Equals, BV, BVAdd, BVUlt, BVShl, BVUrem, Ite\n\u001b[0;32m      2\u001b[0m \u001b[38;5;28;01mfrom\u001b[39;00m \u001b[38;5;21;01mpysmt\u001b[39;00m\u001b[38;5;21;01m.\u001b[39;00m\u001b[38;5;21;01mtyping\u001b[39;00m \u001b[38;5;28;01mimport\u001b[39;00m BVType\n\u001b[0;32m      3\u001b[0m \u001b[38;5;28;01mfrom\u001b[39;00m \u001b[38;5;21;01mpysmt\u001b[39;00m\u001b[38;5;21;01m.\u001b[39;00m\u001b[38;5;21;01moperators\u001b[39;00m \u001b[38;5;28;01mimport\u001b[39;00m BVULT\n",
      "\u001b[1;31mImportError\u001b[0m: cannot import name 'BVUlt' from 'pysmt.shortcuts' (C:\\Users\\HP\\anaconda3\\envs\\logica\\lib\\site-packages\\pysmt\\shortcuts.py)"
     ]
    }
   ],
   "source": [
    "from pysmt.shortcuts import Symbol, And, Or, Not, Equals, BV, BVAdd, BVUlt, BVShl, BVUrem, Ite\n",
    "from pysmt.typing import BVType\n",
    "\n",
    "import random\n",
    "\n",
    "# Gera um número inteiro aleatório entre 1 e 100(como exemplo)\n",
    "n = random.randint(1, 100)\n",
    "\n",
    "# Variaveis de modelo\n",
    "a = Symbol(\"a\", BVType(n))\n",
    "b = Symbol(\"b\", BVType(n))\n",
    "x = Symbol(\"x\", BVType(n))\n",
    "y = Symbol(\"y\", BVType(n))\n",
    "z = Symbol(\"z\", BVType(n))\n",
    "\n",
    "# Variáveis de estado (o dicionário `s`)\n",
    "def init1(s):\n",
    "    return And(Equals(s['x'], s['a']), Equals(s['y'], s['b']), Equals(s['z'], BV(0, n)))\n",
    "\n",
    "def error1(s):\n",
    "    overflow_shift = BVUlt(BV(2**n - 1, n), BVShl(s['x'], BV(1, n)))  # x << 1 excede o limite\n",
    "    overflow_sum = BVUlt(BV(2**n - 1, n), BVAdd(s['z'], s['x']))      # z + x excede o limite\n",
    "    return Or(overflow_shift, overflow_sum)\n",
    "\n",
    "def trans1(curr, prox):\n",
    "    \n",
    "    #A transição simula uma etapa da multiplicação russa.\n",
    "    even_y = Equals(BVUrem(curr['y'], BV(2, n)), BV(0, n))  # Verifica se y é par\n",
    "    # Definindo as variáveis de próximo estado\n",
    "    next_x = Ite(even_y, BVShl(curr['x'], BV(1, n)), curr['x'])          # Se y for par, x << 1\n",
    "    next_y = Ite(even_y, curr['y'].BVLShr(BV(1, n)), BVAdd(curr['y'], BV(-1, n)))  # Se y for par, y >> 1; senão, y - 1\n",
    "    next_z = Ite(even_y, curr['z'], BVAdd(curr['z'], curr['x']))         # Se y for ímpar, z + x\n",
    "\n",
    "    # Definindo o próximo estado\n",
    "    return And(Equals(prox['x'], next_x),Equals(prox['y'], next_y),Equals(prox['z'], next_z),Equals(prox['a'], curr['a']), Equals(prox['b'], curr['b']))\n"
   ]
  },
  {
   "cell_type": "code",
   "execution_count": null,
   "id": "2a952142-18a9-4377-9bf9-854ab4da9efb",
   "metadata": {},
   "outputs": [],
   "source": []
  }
 ],
 "metadata": {
  "kernelspec": {
   "display_name": "Python 3 (ipykernel)",
   "language": "python",
   "name": "python3"
  },
  "language_info": {
   "codemirror_mode": {
    "name": "ipython",
    "version": 3
   },
   "file_extension": ".py",
   "mimetype": "text/x-python",
   "name": "python",
   "nbconvert_exporter": "python",
   "pygments_lexer": "ipython3",
   "version": "3.10.14"
  }
 },
 "nbformat": 4,
 "nbformat_minor": 5
}
