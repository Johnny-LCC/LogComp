{
 "cells": [
  {
   "cell_type": "markdown",
   "metadata": {},
   "source": [
    "# Trabalho Prático 2\n",
    "**Grupo 22**\n",
    "\n",
    "Alexis Correia - A102495 <br>\n",
    "João Fonseca - A102512 <br>"
   ]
  },
  {
   "cell_type": "markdown",
   "metadata": {},
   "source": [
    "## Enunciado\n",
    "Considere o problema descrito no documento +Lógica Computacional: Multiplicação de Inteiros . Nesse documento usa-se um “Control Flow Automaton” como  modelo do programa imperativo que calcula a multiplicação de  inteiros positivos representados por vetores de bits.\n",
    "\n",
    "  Pretende-se\n",
    "  1. Construir um SFOTS, usando BitVec’s de tamanho $n$ , que descreva o comportamento deste autómato; para isso identifique e codifique em `Z3`  ou `pySMT`, as variáveis do modelo, o estado inicial , a relação de transição e o estado de erro.\n",
    "  2. Usando $k$-indução verifique nesse SFOTS se $\\,$ a propriedade $\\,(x*y + z = a*b)\\,$ $\\,$ é um invariante do seu comportamento.\n",
    "  3. Usando $k$-indução no FOTS acima e adicionando ao estado inicial  a condição  $\\,$ $\\,(a < 2^{n/2})\\land(b < 2^{n/2})\\,$, verifique a segurança do programa; nomeadamente  prove que, com tal estado inicial, o estado de erro nunca é acessível."
   ]
  },
  {
   "cell_type": "markdown",
   "metadata": {},
   "source": [
    "## Resolução"
   ]
  },
  {
   "cell_type": "markdown",
   "metadata": {},
   "source": [
    "Um SFOTS é definido  por $\\:\\:\\Sigma\\;\\equiv\\;\\langle\\,\\mathsf{X}\\,,\\,\\mathsf{next}\\,,\\,\\mathsf{I}\\,,\\,\\mathsf{T}\\,,\\,\\mathsf{E}\\,\\rangle\\:\\:$. Similiar a um FOTS, os estados são constituídos pelas variáveis do programa mais o __program counter__ (pc) e, tanto o estado inicial quanto as relações de trnsição, são caracterizados por predicados. A maior diferença se encontra na existência do estado de erro."
   ]
  },
  {
   "cell_type": "markdown",
   "metadata": {},
   "source": [
    "Comecemos, então, por analisar o programa imperativo em questão.\n",
    "\n",
    "```Python\n",
    "{a >= 0 and b >= 0}\n",
    "0: x , y, z = a , b , 0\n",
    "1: while not y == 0:\n",
    "2:  if even(y):\n",
    "3:      x , y , z = x << 1 , y >> 1 , z\n",
    "4:  else:\n",
    "5:      x , y , z = x , y - 1, z + x\n",
    "6: stop\n",
    "```\n",
    "- Note-se que no final deve ser  $ z = a\\times b $\n",
    "- Neste pedaço de código, $ x $ e $ y $ são vetores de bits e as operações de ``<<``(Shift Left) e ``>>``(Shift Right) são equivalentes as operações ``*2`` e ``/2`` com inteiros.\n",
    "<bl>\n",
    "Podemos, ainda, supor que a função ``even`` se parece com algo do género:\n",
    "\n",
    "```Python\n",
    "0: def even(n):\n",
    "1:   return (n%2==0)\n",
    "```"
   ]
  },
  {
   "cell_type": "markdown",
   "metadata": {},
   "source": [
    "- As variáveis do programa são: $ a $, $ b $, $ x $, $ y $ e $ z $\n",
    "- O estado inicial é caracterizado pelo predicado: $\\mathit{pc} = 0 \\wedge a \\ge 0 \\wedge b \\ge 0$\n",
    "- As transições possíveis são caracterizadas das seguintes formas:\n",
    "$$\n",
    "\\begin{array}{c}\n",
    "(\\mathit{pc} = 0 \\wedge a \\ge 0 \\wedge b \\ge 0 \\wedge \\mathit{pc}' = 1 \\wedge a' = a \\wedge b' = b \\wedge x' = a \\wedge y' = b \\wedge z' = 0)\\\\\n",
    "\\vee\\\\\n",
    "(\\mathit{pc} = 1 \\wedge y \\neq 0 \\wedge \\mathit{pc}' = 2 \\wedge a' = a \\wedge b' = b \\wedge x' = x \\wedge y' = y \\wedge z' = z)\\\\\n",
    "\\vee\\\\\n",
    "(\\mathit{pc} = 1 \\wedge y = 0 \\wedge \\mathit{pc}' = 6 \\wedge a' = a \\wedge b' = b \\wedge x' = x \\wedge y' = y \\wedge z' = z)\\\\\n",
    "\\vee\\\\\n",
    "(\\mathit{pc} = 2 \\wedge (y\\%2) = 0 \\wedge \\mathit{pc}' = 3 \\wedge a' = a \\wedge b' = b \\wedge x' = x \\wedge y' = y \\wedge z' = z)\\\\\n",
    "\\vee\\\\\n",
    "(\\mathit{pc} = 2 \\wedge (y\\%2) = 1 \\wedge \\mathit{pc}' = 5 \\wedge a' = a \\wedge b' = b \\wedge x' = x \\wedge y' = y \\wedge z' = z)\\\\\n",
    "\\vee\\\\\n",
    "(\\mathit{pc} = 3 \\wedge \\mathit{pc}' = 1 \\wedge a' = a \\wedge b' = b \\wedge x' = x<<1 \\wedge y' = y>>1 \\wedge z' = z)\\\\\n",
    "\\vee\\\\\n",
    "(\\mathit{pc} = 5 \\wedge \\mathit{pc}' = 1 \\wedge a' = a \\wedge b' = b \\wedge x' = x \\wedge y' = y-1 \\wedge z' = z+x)\\\\\n",
    "\\vee\\\\\n",
    "(\\mathit{pc} = 6 \\wedge \\mathit{pc}' = 6 \\wedge a' = a \\wedge b' = b \\wedge x' = x \\wedge y' = y \\wedge z' = z)\n",
    "\\end{array}\n",
    "$$\n",
    "- O estado de erro acontece caso haja um ``overflow`` (tanto em $x = x << 1$  como em $z = z + x$);"
   ]
  },
  {
   "cell_type": "markdown",
   "metadata": {},
   "source": [
    "como o programa em questão calcula a multiplicação de dois inteiros, tomemos que $n = 4\\times 8$ (um ``int`` tem 4 bytes)"
   ]
  },
  {
   "cell_type": "code",
   "execution_count": 2,
   "metadata": {},
   "outputs": [],
   "source": [
    "from pysmt.shortcuts import *\n",
    "from pysmt.typing import BVType, INT\n",
    "\n",
    "# SFOTS #\n",
    "\n",
    "def declare(i): # n = 32\n",
    "    state = {}\n",
    "    state['x'] = Symbol('x'+str(i), BVType(32))\n",
    "    state['y'] = Symbol('x'+str(i), BVType(32))\n",
    "    state['z'] = Symbol('x'+str(i), BVType(32))\n",
    "    state['pc'] = Symbol('x'+str(i), INT)\n",
    "    state['a'] = Symbol('a'+str(i), BVType(32)) ##\n",
    "    state['b'] = Symbol('b'+str(i), BVType(32)) ##\n",
    "    return state\n",
    "\n",
    "def init(state):\n",
    "    A = GE(state['a'], Int(0)) \n",
    "    B = GE(state['b'], Int(0))\n",
    "    C = Equals(state['pc'], Int(0))\n",
    "    # Equals(x, a) # Equals(y, b) # Equals(z,0)\n",
    "    return And(A,B,C)\n",
    "\n",
    "def trans(curr, prox):\n",
    "    t01 = And(Equals(curr['pc'], Int(0)), GT(curr['a'], BV(0,32)), GT(curr['b'], BV(0,32)),\n",
    "              Equals(prox['pc'], Int(1)), Equals(prox['a'], curr['a']), Equals(prox['b'], curr['b']),\n",
    "              Equals(prox['x'], curr['a']), Equals(prox['y'], curr['b']), Equals(prox['z'], BV(0,32)))\n",
    "    \n",
    "    t12 = And(Equals(curr['pc'], Int(1)), Not(Equals(curr['y'], BV(0,32))),\n",
    "              Equals(prox['pc'], Int(2)), Equals(prox['a'], curr['a']), Equals(prox['b'], curr['b']),\n",
    "              Equals(prox['x'], curr['x']), Equals(prox['y'], curr['y']), Equals(prox['z'], curr['z']))\n",
    "    \n",
    "    t16 = And(Equals(curr['pc'], Int(1)), Equals(curr['y'], BV(0,32)),\n",
    "              Equals(prox['pc'], Int(6)), Equals(prox['a'], curr['a']), Equals(prox['b'], curr['b']),\n",
    "              Equals(prox['x'], curr['x']), Equals(prox['y'], curr['y']), Equals(prox['z'], curr['z']))\n",
    "    \n",
    "    t23 = And(Equals(curr['pc'], Int(2)), Equals(BVExtract(curr['y'],0,0), BV(0,1)), # BVExtract(curr['y'],0,0)==p%2{p num int}\n",
    "              Equals(prox['pc'], Int(3)), Equals(prox['a'], curr['a']), Equals(prox['b'], curr['b']),\n",
    "              Equals(prox['x'], curr['x']), Equals(prox['y'], curr['y']), Equals(prox['z'], curr['z']))\n",
    "    \n",
    "    t25 = And(Equals(curr['pc'], Int(2)), Equals(BVExtract(curr['y'],0,0), BV(1,1)), ##\n",
    "              Equals(prox['pc'], Int(3)), Equals(prox['a'], curr['a']), Equals(prox['b'], curr['b']),\n",
    "              Equals(prox['x'], curr['x']), Equals(prox['y'], curr['y']), Equals(prox['z'], curr['z']))\n",
    "    \n",
    "    t31 = And(Equals(curr['pc'], Int(3)), Equals(prox['pc'], Int(1)), Equals(prox['a'], curr['a']), Equals(prox['b'], curr['b']),\n",
    "              Equals(prox['x'], BVLShl(curr['x'], 1)), Equals(prox['y'], BVLShr(curr['y'], 1)), Equals(prox['z'], curr['z']))\n",
    "    \n",
    "    t51 = And(Equals(curr['pc'], Int(5)), Equals(prox['pc'], Int(1)), Equals(prox['a'], curr['a']), Equals(prox['b'], curr['b']),\n",
    "              Equals(prox['x'], curr['x'], 1), Equals(prox['y'], BVSub(curr['y'], BV(1,32))), Equals(prox['z'], BVAdd(curr['z'],curr['x'])))\n",
    "    \n",
    "    t66 = And(Equals(curr['pc'], Int(6)), Equals(prox['pc'], Int(6)), Equals(prox['a'], curr['a']), Equals(prox['b'], curr['b']),\n",
    "              Equals(prox['x'], curr['x']), Equals(prox['y'], curr['y']), Equals(prox['z'], curr['z']))\n",
    "    \n",
    "    return Or(t01, t12, t16, t23, t25, t31, t51, t66)\n",
    "\n",
    "def error():\n",
    "    return \"ERROR\""
   ]
  },
  {
   "cell_type": "code",
   "execution_count": null,
   "metadata": {},
   "outputs": [],
   "source": [
    "# k-indução #"
   ]
  }
 ],
 "metadata": {
  "kernelspec": {
   "display_name": "logica",
   "language": "python",
   "name": "python3"
  },
  "language_info": {
   "codemirror_mode": {
    "name": "ipython",
    "version": 3
   },
   "file_extension": ".py",
   "mimetype": "text/x-python",
   "name": "python",
   "nbconvert_exporter": "python",
   "pygments_lexer": "ipython3",
   "version": "3.10.14"
  }
 },
 "nbformat": 4,
 "nbformat_minor": 2
}
