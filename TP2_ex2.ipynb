{
 "cells": [
  {
   "cell_type": "markdown",
   "metadata": {},
   "source": [
    "# Trabalho Prático 2\n",
    "**Grupo 22**\n",
    "\n",
    "Alexis Correia - A102495 <br>\n",
    "João Fonseca - A102512 <br>"
   ]
  },
  {
   "cell_type": "markdown",
   "metadata": {},
   "source": [
    "## Enunciado\n",
    "Considere o problema descrito no documento +Lógica Computacional: Multiplicação de Inteiros . Nesse documento usa-se um “Control Flow Automaton” como  modelo do programa imperativo que calcula a multiplicação de  inteiros positivos representados por vetores de bits.\n",
    "\n",
    "  Pretende-se\n",
    "  1. Construir um SFOTS, usando BitVec’s de tamanho $n$ , que descreva o comportamento deste autómato; para isso identifique e codifique em `Z3`  ou `pySMT`, as variáveis do modelo, o estado inicial , a relação de transição e o estado de erro.\n",
    "  2. Usando $k$-indução verifique nesse SFOTS se $\\,$ a propriedade $\\,(x*y + z = a*b)\\,$ $\\,$ é um invariante do seu comportamento.\n",
    "  3. Usando $k$-indução no FOTS acima e adicionando ao estado inicial  a condição  $\\,$ $\\,(a < 2^{n/2})\\land(b < 2^{n/2})\\,$, verifique a segurança do programa; nomeadamente  prove que, com tal estado inicial, o estado de erro nunca é acessível."
   ]
  },
  {
   "cell_type": "markdown",
   "metadata": {},
   "source": [
    "## Resolução"
   ]
  },
  {
   "cell_type": "markdown",
   "metadata": {},
   "source": [
    "Um SFOTS é definido  por $\\:\\:\\Sigma\\;\\equiv\\;\\langle\\,\\mathsf{X}\\,,\\,\\mathsf{next}\\,,\\,\\mathsf{I}\\,,\\,\\mathsf{T}\\,,\\,\\mathsf{E}\\,\\rangle\\:\\:$. Similiar a um FOTS, os estados são constituídos pelas variáveis do programa mais o __program counter__ (pc) e, tanto o estado inicial quanto as relações de trnsição, são caracterizados por predicados. A maior diferença se encontra na existência do estado de erro."
   ]
  },
  {
   "cell_type": "markdown",
   "metadata": {},
   "source": [
    "Comecemos, então, por analisar o programa imperativo em questão.\n",
    "\n",
    "```Python\n",
    "{a >= 0 and b >= 0}\n",
    "0: x , y, z = a , b , 0\n",
    "1: while not y == 0:\n",
    "2:  if even(y):\n",
    "3:      x , y , z = x << 1 , y >> 1 , z\n",
    "4:  else:\n",
    "5:      x , y , z = x , y - 1, z + x\n",
    "6: stop\n",
    "```\n",
    "- Note-se que no final deve ser  $ z = a\\times b $\n",
    "- Neste pedaço de código, $ x $ e $ y $ são vetores de bits e as operações de ``<<``(Shift Left) e ``>>``(Shift Right) são equivalentes as operações ``*2`` e ``/2`` com inteiros.\n",
    "<bl>\n",
    "Podemos, ainda, supor que a função ``even`` se parece com algo do género:\n",
    "\n",
    "```Python\n",
    "0: def even(n):\n",
    "1:   return (n%2==0)\n",
    "```"
   ]
  },
  {
   "cell_type": "markdown",
   "metadata": {},
   "source": [
    "- As variáveis do programa são: $ a $, $ b $, $ x $, $ y $ e $ z $\n",
    "- O estado inicial é caracterizado pelo predicado: $\\mathit{pc} = 0 \\wedge a \\ge 0 \\wedge b \\ge 0$\n",
    "- As transições possíveis são caracterizadas das seguintes formas:\n",
    "$$\n",
    "\\begin{array}{c}\n",
    "(\\mathit{pc} = 0 \\wedge a \\ge 0 \\wedge b \\ge 0 \\wedge \\mathit{pc}' = 1 \\wedge a' = a \\wedge b' = b \\wedge x' = a \\wedge y' = b \\wedge z' = 0)\\\\\n",
    "\\vee\\\\\n",
    "(\\mathit{pc} = 1 \\wedge y \\neq 0 \\wedge \\mathit{pc}' = 2 \\wedge a' = a \\wedge b' = b \\wedge x' = x \\wedge y' = y \\wedge z' = z)\\\\\n",
    "\\vee\\\\\n",
    "(\\mathit{pc} = 1 \\wedge y = 0 \\wedge \\mathit{pc}' = 6 \\wedge a' = a \\wedge b' = b \\wedge x' = x \\wedge y' = y \\wedge z' = z)\\\\\n",
    "\\vee\\\\\n",
    "(\\mathit{pc} = 2 \\wedge (y\\%2) = 0 \\wedge \\mathit{pc}' = 3 \\wedge a' = a \\wedge b' = b \\wedge x' = x \\wedge y' = y \\wedge z' = z)\\\\\n",
    "\\vee\\\\\n",
    "(\\mathit{pc} = 2 \\wedge (y\\%2) = 1 \\wedge \\mathit{pc}' = 5 \\wedge a' = a \\wedge b' = b \\wedge x' = x \\wedge y' = y \\wedge z' = z)\\\\\n",
    "\\vee\\\\\n",
    "(\\mathit{pc} = 3 \\wedge \\mathit{pc}' = 1 \\wedge a' = a \\wedge b' = b \\wedge x' = x<<1 \\wedge y' = y>>1 \\wedge z' = z)\\\\\n",
    "\\vee\\\\\n",
    "(\\mathit{pc} = 5 \\wedge \\mathit{pc}' = 1 \\wedge a' = a \\wedge b' = b \\wedge x' = x \\wedge y' = y-1 \\wedge z' = z+x)\\\\\n",
    "\\vee\\\\\n",
    "(\\mathit{pc} = 6 \\wedge \\mathit{pc}' = 6 \\wedge a' = a \\wedge b' = b \\wedge x' = x \\wedge y' = y \\wedge z' = z)\n",
    "\\end{array}\n",
    "$$\n",
    "- O estado de erro acontece caso haja um ``overflow`` (tanto em $x = x << 1$  como em $z = z + x$);"
   ]
  },
  {
   "cell_type": "code",
   "execution_count": null,
   "metadata": {},
   "outputs": [],
   "source": [
    "from pysmt.shortcuts import *\n",
    "from pysmt.typing import BVType, INT\n",
    "\n",
    "n = 16 # num de bits\n",
    "\n",
    "# SFOTS #\n",
    "\n",
    "def declare(i):\n",
    "    state = {}\n",
    "    state['pc'] = Symbol('pc'+str(i), INT)\n",
    "    state['a'] = Symbol('a'+str(i), BVType(n))\n",
    "    state['b'] = Symbol('b'+str(i), BVType(n))\n",
    "    state['x'] = Symbol('x'+str(i), BVType(n))\n",
    "    state['y'] = Symbol('y'+str(i), BVType(n))\n",
    "    state['z'] = Symbol('z'+str(i), BVType(n))\n",
    "    return state\n",
    "\n",
    "def init(state):\n",
    "    A = BVSGE(state['a'], BV(0,n)) \n",
    "    B = BVSGE(state['b'], BV(0,n))\n",
    "    C = Equals(state['pc'], Int(0))\n",
    "    return And(A,B,C)\n",
    "\n",
    "def trans(curr, prox):\n",
    "    t01 = And(Equals(curr['pc'], Int(0)), BVSGE(curr['a'], BV(0,n)), BVSGE(curr['b'], BV(0,n)),\n",
    "              Equals(prox['pc'], Int(1)), Equals(prox['a'], curr['a']), Equals(prox['b'], curr['b']),\n",
    "              Equals(prox['x'], curr['a']), Equals(prox['y'], curr['b']), Equals(prox['z'], BV(0,n)))\n",
    "    \n",
    "    t12 = And(Equals(curr['pc'], Int(1)), Not(Equals(curr['y'], BV(0,n))),\n",
    "              Equals(prox['pc'], Int(2)), Equals(prox['a'], curr['a']), Equals(prox['b'], curr['b']),\n",
    "              Equals(prox['x'], curr['x']), Equals(prox['y'], curr['y']), Equals(prox['z'], curr['z']))\n",
    "    \n",
    "    t16 = And(Equals(curr['pc'], Int(1)), Equals(curr['y'], BV(0,n)),\n",
    "              Equals(prox['pc'], Int(6)), Equals(prox['a'], curr['a']), Equals(prox['b'], curr['b']),\n",
    "              Equals(prox['x'], curr['x']), Equals(prox['y'], curr['y']), Equals(prox['z'], curr['z']))\n",
    "    \n",
    "    t23 = And(Equals(curr['pc'], Int(2)), Equals(BVExtract(curr['y'],0,0), BV(0,1)),\n",
    "              Equals(prox['pc'], Int(3)), Equals(prox['a'], curr['a']), Equals(prox['b'], curr['b']),\n",
    "              Equals(prox['x'], curr['x']), Equals(prox['y'], curr['y']), Equals(prox['z'], curr['z']))\n",
    "    \n",
    "    t25 = And(Equals(curr['pc'], Int(2)), Equals(BVExtract(curr['y'],0,0), BV(1,1)),\n",
    "              Equals(prox['pc'], Int(3)), Equals(prox['a'], curr['a']), Equals(prox['b'], curr['b']),\n",
    "              Equals(prox['x'], curr['x']), Equals(prox['y'], curr['y']), Equals(prox['z'], curr['z']))\n",
    "    \n",
    "    t31 = And(Equals(curr['pc'], Int(3)), Equals(prox['pc'], Int(1)), Equals(prox['a'], curr['a']), Equals(prox['b'], curr['b']),\n",
    "              Equals(prox['x'], BVLShl(curr['x'], 1)), Equals(prox['y'], BVLShr(curr['y'], 1)), Equals(prox['z'], curr['z']))\n",
    "    \n",
    "    t51 = And(Equals(curr['pc'], Int(5)), Equals(prox['pc'], Int(1)), Equals(prox['a'], curr['a']), Equals(prox['b'], curr['b']),\n",
    "              Equals(prox['x'], curr['x']), Equals(prox['y'], BVSub(curr['y'], BV(1,n))), Equals(prox['z'], BVAdd(curr['z'],curr['x'])))\n",
    "    \n",
    "    t66 = And(Equals(curr['pc'], Int(6)), Equals(prox['pc'], Int(6)), Equals(prox['a'], curr['a']), Equals(prox['b'], curr['b']),\n",
    "              Equals(prox['x'], curr['x']), Equals(prox['y'], curr['y']), Equals(prox['z'], curr['z']))\n",
    "    \n",
    "    return Or(t01, t12, t16, t23, t25, t31, t51, t66)\n",
    "\n",
    "def error(state):\n",
    "    of_Shl = BVULT(BV(2**n - 1, n), BVLShl(state['x'], 1))\n",
    "    of_Add = BVULT(BV(2**n - 1, n), BVAdd(state['z'], state['x']))\n",
    "    return Or(of_Shl, of_Add)\n"
   ]
  },
  {
   "cell_type": "markdown",
   "metadata": {},
   "source": [
    "Dessa forma, está pronta nosso **SFOTS**. Com as funções acima (``declare``, ``init``, ``trans`` e ``error``) devidamente definidas, podemos escrever ``genTrace`` que escreverá o traço de comprimento $K$ e o valor de cada variável em cada estado $i$ tal que $i\\in {0,1,2,...,K}$."
   ]
  },
  {
   "cell_type": "code",
   "execution_count": null,
   "metadata": {},
   "outputs": [],
   "source": [
    "def genTrace(declare, init, trans, error, K):\n",
    "    with Solver(name=\"z3\") as s:\n",
    "        X = [declare(i) for i in range(K+1)]\n",
    "        I = init(X[0])\n",
    "        Tks = [trans(X[i],X[i+1]) for i in range(K) ]\n",
    "        \n",
    "        if s.solve([I,And(Tks) ]):\n",
    "            for i in range(K):\n",
    "                print(\"Estado:\",i)\n",
    "                print(f\"          pc = {s.get_value(X[i]['pc'])}\")\n",
    "                print(f\"          a = {s.get_value(X[i]['a'])}, b = {s.get_value(X[i]['b'])}\")\n",
    "                for v in ['x', 'y', 'z']:\n",
    "                    p = format(s.get_value(X[i][v]).constant_value(), f'0{n}b')\n",
    "                    print(f'          {v} = {p} ({s.get_value(X[i][v])})')\n",
    "        else:\n",
    "            print(\"ERROR\")\n",
    "\n",
    "genTrace(declare, init, trans, error, 20)"
   ]
  },
  {
   "cell_type": "markdown",
   "metadata": {},
   "source": [
    "Agora, verificaremos se a propriedade $\\,(x*y + z = a*b)\\,$ $\\,$ é um invariante do comportamento desta SFOTS com $k$-indução.\n",
    "\n",
    "Primeiramente, podemos afirmar empiricamente que a variável $y$ sempre chega ao final do código com valor 0 e, por isso, $(x*y + z = a*b)\\implies (z=a*b) $ que é da facto o que este código calcula. Logo, sabemos que no fim da execução, esta equação é verdadeira (Desde que não haja ``overflow``).\n",
    "\n",
    "Porém, ainda precisamos verificar com auxílio de $k$-indução se a afirmação é verdadeira em todos os estados e se esta propriedade é de facto invariante de SFOTS."
   ]
  },
  {
   "cell_type": "code",
   "execution_count": null,
   "metadata": {},
   "outputs": [],
   "source": [
    "def kinduction_always(declare,init,trans,inv,k):\n",
    "    with Solver(name=\"z3\") as solver:\n",
    "        s = [declare(i) for i in range(k)]\n",
    "        solver.add_assertion(init(s[0]))\n",
    "        for i in range(k-1):\n",
    "            solver.add_assertion(trans(s[i],s[i+1]))\n",
    "            \n",
    "        for i in range(k):\n",
    "            solver.push()\n",
    "            solver.add_assertion(Not(inv(s[i])))\n",
    "            if solver.solve():\n",
    "                print(f\"> Contradição! O invariante não se verifica nos k estados iniciais.\")\n",
    "                return\n",
    "            solver.pop()\n",
    "        \n",
    "        s2 = [declare(i+k) for i in range(k+1)]\n",
    "        \n",
    "        for i in range(k):\n",
    "            solver.add_assertion(inv(s2[i]))\n",
    "            solver.add_assertion(trans(s2[i],s2[i+1]))\n",
    "        \n",
    "        solver.add_assertion(Not(inv(s2[-1])))\n",
    "        \n",
    "        if solver.solve():\n",
    "            print(f\"> Contradição! O passo indutivo não se verifica.\")\n",
    "            return\n",
    "        \n",
    "        print(f\"> A propriedade verifica-se por k-indução (k={k}).\")\n",
    "    return\n",
    " \n",
    "def inv(state): # Invariante: x*y+z=a*b\n",
    "    R = BVAdd(BVMul(state['x'],state['y']),state['z'])\n",
    "    L = BVMul(state['a'], state['b'])\n",
    "    return Equals(R, L)\n",
    "\n",
    "kinduction_always(declare,init,trans,inv, 2)"
   ]
  },
  {
   "cell_type": "markdown",
   "metadata": {},
   "source": [
    "Com as funções ``kinduction_always`` e ``inv``, pudemos verificar que, de facto, a propriedade não invariante. Ela falha logo no primeiro estado (estado inicial)."
   ]
  },
  {
   "cell_type": "markdown",
   "metadata": {},
   "source": [
    "Por fim, vamos averiguar a segurança do programa ao adicionar a condição $(a < 2^{n/2})\\land(b < 2^{n/2})$ ao estado inicial. Mais uma vez, nos utilizaremos da $k$-indução neste exercício."
   ]
  },
  {
   "cell_type": "code",
   "execution_count": null,
   "metadata": {},
   "outputs": [],
   "source": [
    "def init1(state):\n",
    "    I = init(state)\n",
    "    maxA = BVSLT(state['a'], BV(2**(n//2),n))\n",
    "    maxB = BVSLT(state['b'], BV(2**(n//2),n))\n",
    "    return And(I,maxA,maxB)\n",
    "\n",
    "def safe(state):\n",
    "    X = BVULE(state['x'], BV((2**n)-1,n))\n",
    "    Z = BVULE(state['z'], BV((2**n)-1,n))\n",
    "    return  And(X,Z)\n",
    "\n",
    "kinduction_always(declare, init1, trans, safe, 20)"
   ]
  },
  {
   "cell_type": "markdown",
   "metadata": {},
   "source": [
    "Como podemos ver, ao adicionar esta nova condição ao estado inicial, evitamos por completo que aconteça **overflow** do $x$ e do $z$."
   ]
  }
 ],
 "metadata": {
  "kernelspec": {
   "display_name": "logica",
   "language": "python",
   "name": "python3"
  },
  "language_info": {
   "codemirror_mode": {
    "name": "ipython",
    "version": 3
   },
   "file_extension": ".py",
   "mimetype": "text/x-python",
   "name": "python",
   "nbconvert_exporter": "python",
   "pygments_lexer": "ipython3",
   "version": "3.10.14"
  }
 },
 "nbformat": 4,
 "nbformat_minor": 2
}
