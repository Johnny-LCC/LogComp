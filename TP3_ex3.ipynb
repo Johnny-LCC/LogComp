{
 "cells": [
  {
   "cell_type": "markdown",
   "metadata": {},
   "source": [
    "# Trabalho Prático 3\n",
    "**Grupo 22**\n",
    "\n",
    "Alexis Correia - A102495 <br>\n",
    "João Fonseca - A102512 <br>"
   ]
  },
  {
   "cell_type": "markdown",
   "metadata": {},
   "source": [
    "\n",
    "## Problema 3\n",
    "\n",
    "Considere de novo o 1º problema do trabalho TP2  relativo à descrição da cifra $\\,\\mathsf{A5/1}$ e o FOTS usando BitVec’s que aì foi definido para a componente do gerador de chaves. Ignore a componente de geração final da chave e restrinja o modelo aos três LFSR’s. \n",
    "Sejam $\\,\\mathsf{X}_0, \\mathsf{X}_1, \\mathsf{X}_2\\,$ as variáveis que determinam os estados dos três LFSR’s que ocorrem neste modelo. Como condição inicial  e condição de erro use os predicados\n",
    "\n",
    "$$\\,\\mathsf{I} \\;\\equiv\\; (\\mathsf{X}_0 > 0)\\,\\land\\,(\\mathsf{X}_1 > 0)\\,\\land\\,(\\mathsf{X}_2 > 0)\\quad$$ \n",
    "$$\\quad \\mathsf{E}\\;\\equiv\\;\\neg\\,\\mathsf{I}$$\n",
    "                \n",
    "1. Codifique em “z3”  o SFOTS assim definido.\n",
    "2. Use o algoritmo PDR “property directed reachability” (codifique-o ou use uma versão pré-existente) e, com ele, tente provar a segurança deste modelo."
   ]
  },
  {
   "cell_type": "markdown",
   "metadata": {},
   "source": [
    "## Resolução\n",
    "\n",
    "Definidos o conjunto dos estados, o estado inicial e a condição de erro, falta definir as transições deste SFOTS. <bl>\n",
    "Neste caso, as transições são: \n",
    "$$\n",
    "\\begin{array}{c}\n",
    "()\n",
    "\\\\\\vee\\\\\n",
    "()\n",
    "\\end{array}\n",
    "$$"
   ]
  },
  {
   "cell_type": "code",
   "execution_count": null,
   "metadata": {},
   "outputs": [],
   "source": [
    "from pysmt.shortcuts import *\n",
    "from pysmt.typing import BVType\n",
    "\n",
    "n0, n1, n2 = 19, 22, 23\n",
    "cB0, cB1, cB2 = 8, 10, 10\n",
    "s0 = BV(\"1110010000000000000\", n0)\n",
    "s1 = BV(\"1100000000000000000000\", n1)\n",
    "s2 = BV(\"11100000000000010000000\", n2)\n",
    "\n",
    "def declare(s,i):\n",
    "    state = {}\n",
    "    state['x0'] = Symbol('x0'+'!'+s+str(i), BVType(n0))\n",
    "    state['x1'] = Symbol('x1'+'!'+s+str(i), BVType(n1))\n",
    "    state['x2'] = Symbol('x2'+'!'+s+str(i), BVType(n2))\n",
    "    return state\n",
    "\n",
    "def init(state):\n",
    "    A = BVSGT(state['x0'], BV(0,n0))\n",
    "    B = BVSGT(state['x1'], BV(0,n1))\n",
    "    C = BVSGT(state['x2'], BV(0,n2))\n",
    "    return And(A,B,C)\n",
    "\n",
    "def cBit(state):\n",
    "    c0 = BVExtract(state['lfsr0'], cB0, cB0)\n",
    "    c1 = BVExtract(state['lfsr1'], cB1, cB1)\n",
    "    c2 = BVExtract(state['lfsr2'], cB2, cB2)\n",
    "    if ((c0 & c1) | (c1 & c2) | (c0 & c2)):\n",
    "        r = BV(1,1)\n",
    "    else:\n",
    "        r = BV(0,1)\n",
    "    return r\n",
    "\n",
    "def trans(curr,prox): #####\n",
    "    c = cBit(curr)\n",
    "    t0 = And(Equals(BVExtract(curr['lfsr0'],cB0, cB0),c),\n",
    "             Equals(prox['lfsr0'], BVXor(BVLShl(curr['lfsr0'],1),BVXor(curr['lfsr0'],s0))))\n",
    "    t1 = And(Equals(BVExtract(curr['lfsr1'],cB1, cB1),c),\n",
    "             Equals(prox['lfsr1'], BVXor(BVLShl(curr['lfsr1'],1),BVXor(curr['lfsr1'],s1))))\n",
    "    t2 = And(Equals(BVExtract(curr['lfsr2'],cB2, cB2),c),\n",
    "             Equals(prox['lfsr2'], BVXor(BVLShl(curr['lfsr2'],1),BVXor(curr['lfsr2'],s2))))\n",
    "    \n",
    "    return Or(And(t0,t1), And(t0,t2), And(t1,t2), And(t0,t1,t2))\n",
    "\n",
    "def error(state):\n",
    "    return Not(init(state))\n",
    "\n",
    "def genTrace(init,trans,error,n): #vars = ['x0','x1','x2']\n",
    "    with Solver(name=\"z3\") as s:\n",
    "        X = [declare('X',i) for i in range(n+1)] \n",
    "        I = init(X[0])\n",
    "        Tks = [ trans(X[i],X[i+1]) for i in range(n) ]\n",
    "        E = [error(X[i]) for i in range(n)]\n",
    "        if s.solve([I,And(Tks),Not(And(E))]):\n",
    "            for i in range(n):\n",
    "                print(\"Estado:\",i)\n",
    "                for v in X[i]:\n",
    "                    print(\"          \",v,'=',s.get_value(X[i][v]))\n",
    "        else:\n",
    "            print(\"ERRO\")\n"
   ]
  },
  {
   "cell_type": "code",
   "execution_count": null,
   "metadata": {},
   "outputs": [],
   "source": [
    "def invert(trans):\n",
    "    return lambda curr, nxt: trans(nxt, curr)"
   ]
  },
  {
   "cell_type": "code",
   "execution_count": null,
   "metadata": {},
   "outputs": [],
   "source": [
    "''' \n",
    "def check_property(self, prop):\n",
    "        \"\"\"Property Directed Reachability approach without optimizations.\"\"\"\n",
    "        print(\"Checking property %s...\" % prop)\n",
    "\n",
    "        while True:\n",
    "            cube = self.get_bad_state(prop)\n",
    "            if cube is not None:\n",
    "                # Blocking phase of a bad state\n",
    "                if self.recursive_block(cube):\n",
    "                    print(\"--> Bug found at step %d\" % (len(self.frames)))\n",
    "                    break\n",
    "                else:\n",
    "                    print(\"   [PDR] Cube blocked '%s'\" % str(cube))\n",
    "            else:\n",
    "                # Checking if the last two frames are equivalent i.e., are inductive\n",
    "                if self.inductive():\n",
    "                    print(\"--> The system is safe!\")\n",
    "                    break\n",
    "                else:\n",
    "                    print(\"   [PDR] Adding frame %d...\" % (len(self.frames)))\n",
    "                    self.frames.append(TRUE())\n",
    "'''"
   ]
  }
 ],
 "metadata": {
  "kernelspec": {
   "display_name": "logica",
   "language": "python",
   "name": "python3"
  },
  "language_info": {
   "name": "python",
   "version": "3.10.14"
  }
 },
 "nbformat": 4,
 "nbformat_minor": 2
}
