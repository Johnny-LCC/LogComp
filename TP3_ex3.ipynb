{
 "cells": [
  {
   "cell_type": "markdown",
   "metadata": {},
   "source": [
    "# Trabalho Prático 3\n",
    "**Grupo 22**\n",
    "\n",
    "Alexis Correia - A102495 <br>\n",
    "João Fonseca - A102512 <br>"
   ]
  },
  {
   "cell_type": "markdown",
   "metadata": {},
   "source": [
    "\n",
    "## Problema 3\n",
    "\n",
    "Considere de novo o 1º problema do trabalho TP2  relativo à descrição da cifra $\\,\\mathsf{A5/1}$ e o FOTS usando BitVec’s que aì foi definido para a componente do gerador de chaves. Ignore a componente de geração final da chave e restrinja o modelo aos três LFSR’s. \n",
    "Sejam $\\,\\mathsf{X}_0, \\mathsf{X}_1, \\mathsf{X}_2\\,$ as variáveis que determinam os estados dos três LFSR’s que ocorrem neste modelo. Como condição inicial  e condição de erro use os predicados\n",
    "\n",
    "$$\\,\\mathsf{I} \\;\\equiv\\; (\\mathsf{X}_0 > 0)\\,\\land\\,(\\mathsf{X}_1 > 0)\\,\\land\\,(\\mathsf{X}_2 > 0)\\quad$$ \n",
    "$$\\quad \\mathsf{E}\\;\\equiv\\;\\neg\\,\\mathsf{I}$$\n",
    "                \n",
    "1. Codifique em “z3”  o SFOTS assim definido.\n",
    "2. Use o algoritmo PDR “property directed reachability” (codifique-o ou use uma versão pré-existente) e, com ele, tente provar a segurança deste modelo."
   ]
  },
  {
   "cell_type": "markdown",
   "metadata": {},
   "source": [
    "## Resolução\n",
    "\n",
    "Definidos o conjunto dos estados, o estado inicial e a condição de erro, falta definir as transições deste SFOTS. <bl>\n",
    "Neste caso, as transições são: \n",
    "$$\n",
    "\\begin{array}{c}\n",
    "()\n",
    "\\\\\\vee\\\\\n",
    "\\end{array}\n",
    "$$"
   ]
  },
  {
   "cell_type": "code",
   "execution_count": null,
   "metadata": {},
   "outputs": [],
   "source": [
    "from pysmt.shortcuts import *\n",
    "from pysmt.typing import BVType, INT\n",
    "\n",
    "n0, n1, n2 = 19, 22, 23\n",
    "# Outras constantes\n",
    "'''\n",
    "cB0, cB1, cB2 = 8, 10, 10\n",
    "s0 = BV(\"1110010000000000000\", n0)\n",
    "s1 = BV(\"1100000000000000000000\", n1)\n",
    "s2 = BV(\"11100000000000010000000\", n2)\n",
    "'''\n",
    "\n",
    "def declare(i):\n",
    "    state = {}\n",
    "    state['x0'] = Symbol('x0_'+str(i), BVType(n0))\n",
    "    state['x1'] = Symbol('x1_'+str(i), BVType(n1))\n",
    "    state['x2'] = Symbol('x2_'+str(i), BVType(n2))\n",
    "    return state\n",
    "\n",
    "def init(state):\n",
    "    A = BVSGT(state['x0'], BV(0,n0))\n",
    "    B = BVSGT(state['x1'], BV(0,n1))\n",
    "    C = BVSGT(state['x2'], BV(0,n2))\n",
    "    return And(A,B,C)\n",
    "\n",
    "def trans(curr, prox):\n",
    "    ###\n",
    "    return curr, prox\n",
    "\n",
    "def error(state):\n",
    "    return Not(init(state))"
   ]
  }
 ],
 "metadata": {
  "kernelspec": {
   "display_name": "logica",
   "language": "python",
   "name": "python3"
  },
  "language_info": {
   "name": "python",
   "version": "3.10.14"
  }
 },
 "nbformat": 4,
 "nbformat_minor": 2
}
