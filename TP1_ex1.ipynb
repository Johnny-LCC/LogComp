{
 "cells": [
  {
   "cell_type": "markdown",
   "metadata": {},
   "source": [
    "# Trabalho Prático 1\n",
    "**Grupo 22**\n",
    "\n",
    "Alexis Correia - A102495 <br>\n",
    "João Fonseca - A102512 <br>"
   ]
  },
  {
   "cell_type": "markdown",
   "metadata": {},
   "source": [
    "\n",
    "## Exercício 1\n",
    "Pretende-se construir um `horário semanal` para o plano de reuniões de projeto de uma “StartUp” de acordo com as seguintes condições:\n",
    "\n",
    "1. Cada reunião ocupa uma **sala** (enumeradas 1...S) durante um **slot** (tempo e dia).  Assume-se os **dias** enumerados 1..D e, em cada dia, os **tempos** enumerados 1..T.\n",
    "\n",
    "2.  Cada reunião tem associado um **projeto** (enumerados 1..P) e um conjunto de participantes. Os diferentes **colaboradores** são enumerados 1..C.\n",
    "\n",
    "3. Cada projeto tem associado um conjunto de colaboradores, dos quais um  é o líder. Cada projeto realiza um dado número de reuniões semanais. São `inputs` do problema o conjunto de colaboradores de cada projeto, o seu líder e o número de reuniões semanais.\n",
    "\n",
    "4. O líder do projeto participa em todas as reuniões do seu projeto; os restantes colaboradores podem ou não participar consoante a sua disponibilidade, num mínimo (“quorum”) de  **50\\%** do total de colaboradores do projeto.  A disponibilidade de cada participante, incluindo o lider,  é um conjunto de “slots” (`inputs` do problema)."
   ]
  },
  {
   "cell_type": "markdown",
   "metadata": {},
   "source": [
    "### Resolução\n"
   ]
  },
  {
   "cell_type": "code",
   "execution_count": 16,
   "metadata": {},
   "outputs": [],
   "source": [
    "#Inicialização\n",
    "from ortools.linear_solver import pywraplp\n",
    "import random\n",
    "\n",
    "solver = pywraplp.Solver.CreateSolver('SCIP')\n",
    "error = pywraplp.Solver.INFEASIBLE\n"
   ]
  },
  {
   "cell_type": "code",
   "execution_count": 17,
   "metadata": {},
   "outputs": [],
   "source": [
    "# Constantes\n",
    "\n",
    "S,D,T = 5,5,8 #num de salas, dias na semana e tempos(horários) por dia\n",
    "P,C = 5,20 #num de projetos e de colaboradores totais\n",
    "cp = 5 # constante auxiliar - num d colaboradores por projeto"
   ]
  },
  {
   "cell_type": "code",
   "execution_count": null,
   "metadata": {},
   "outputs": [],
   "source": [
    "#Gerador aleatório para testes\n",
    "\n",
    "Slots = [(d, t) for d in range(D) for t in range(T)] # Slots, formados por dia e tempo\n",
    "aux = set(range(C)) # dicionário com os colaboradores \"livres\"\n",
    "HC = [random.sample(Slots, 20) for _ in range(C)] #Horário com a disponibilidade de cada Colaborador\n",
    "\n",
    "Proj = [] #Lista dos projetos, com pares formados por: (num de reuniões, lista de colaboradores)\n",
    "for _ in range(P):\n",
    "  cs = random.sample(aux, cp) #Seleciona colaboradores aleatórios para o projeto\n",
    "  r = random.randint(1, 5) # Decide o num de reunioes de cada projeto (de 1 a 5)\n",
    "  l = random.choice(cs) # Escolhe o líder de cada projeto dentre os colaboradores do projeto\n",
    "  Proj.append((r,l, cs)) # Adiciona a lista dos projetos\n",
    "  aux = aux - set(cs)\n",
    "    #retira os colaboradores do dicionário, garantindo que cada colaborador trabalha em apenas um projeto\n",
    "\n",
    "for c in range(30): #Imprime o horário de todos os colaboradores\n",
    "  HC[c].sort()\n",
    "  print(c, HC[c])\n",
    "\n",
    "for r, l, cs in Proj: #Imprime a lsita Proj\n",
    "  print(r, l, cs)"
   ]
  },
  {
   "cell_type": "code",
   "execution_count": 19,
   "metadata": {},
   "outputs": [],
   "source": [
    "# Criação da matriz multi-dimensional\n",
    "X = {}\n",
    "for s in range(S):\n",
    "    for d in range(D):\n",
    "        for t in range(T):\n",
    "            for p in range(P):\n",
    "                for c in range(C):\n",
    "                    X[s,d,t,p,c] = solver.BoolVar(f\"x[{s},{d},{t},{p},{c}]\")"
   ]
  },
  {
   "cell_type": "markdown",
   "metadata": {},
   "source": [
    "Cada projeto tem associado um conjunto de colaboradores, dos quais um  é o líder. Além disso, o líder do projeto participa de todas as reuniões do seu projeto. Ou seja, tomando $L_{p}$ como o líder dum projeto $p$:\n",
    "$$\n",
    "\\forall p \\in P, \\sum_{s\\in S,d\\in D,t\\in T}X_{s,d,t,p,L_p} = R\n",
    "$$\n",
    "\n",
    "Para além do líder, os outros colaboradores podem ou não participar consoante a sua disponibilidade. No estanto, é preciso um mínimo (“quorum”) de  50\\% do total de colaboradores do projeto na reunião.\n",
    "$$\n",
    "\\forall p \\in P,s\\in S,d\\in D,t\\in T. \\sum_{c\\in C} X_{s,d,t,p,c} \\geq C/2\n",
    "$$"
   ]
  },
  {
   "cell_type": "code",
   "execution_count": 20,
   "metadata": {},
   "outputs": [],
   "source": [
    "#Restrições:\n",
    "\n",
    "# 1 - O líder tem de estar em todas as R reuniões do seu projecto\n",
    "for p in range(P):\n",
    "  solver.Add(sum(X[s, d, t, p, Proj[p][1]] for s in range(S) for d in range(D) for t in range(T)) == Proj[p][0])\n",
    "\n",
    "# 2 - Slot (d, h) fora da disponibilidade do colaborador, logo não pode ser usado\n",
    "for s in range(S):\n",
    "  for d in range(D):\n",
    "    for t in range(T):\n",
    "      for p in range(P):\n",
    "        for c in range(C):\n",
    "          if (d, t) not in HC[c]:\n",
    "            solver.Add(X[s, d, t, p, c] == 0)\n",
    "\n",
    "# 3 - Colaboradores que não são do projecto não podem estar nele\n",
    "for s in range(S):\n",
    "  for d in range(D):\n",
    "    for t in range(T):\n",
    "      for p in range(P):\n",
    "        for c in range(C):\n",
    "          if c not in Proj[p][2]:\n",
    "            solver.Add(X[s, d, t, p, c] == 0)\n",
    "\n",
    "# Limitações:\n",
    "\n",
    "# 4 - Cada sala tem alocada, no máximo, um projeto\n",
    "for s in range(S):\n",
    "  for d in range(D):\n",
    "    for t in range(T):\n",
    "      solver.Add(sum(X[s, d, t, p, Proj[p][1]] for p in range(P)) <= 1)\n",
    "\n",
    "# 5 - Cada colaborador de um projeto só pode estar numa sala\n",
    "for d in range(D):\n",
    "  for t in range(T):\n",
    "    for p in range(P):\n",
    "      for c in Proj[p][2]:\n",
    "        solver.Add(sum(X[s, d, t, p, c]  for s in range(S)) <= 1)\n",
    "\n",
    "# Obrigações:\n",
    "\n",
    "# 6 - Participação de 50% com o líder incluido\n",
    "for s in range(S):\n",
    "  for d in range(D):\n",
    "    for t in range(T):\n",
    "      for p in range(P):\n",
    "        solver.Add(sum(X[s, d, t, p, c] for c in Proj[p][2]) >= 3 * X[s, d, t, p, Proj[p][1]])"
   ]
  },
  {
   "cell_type": "markdown",
   "metadata": {},
   "source": [
    "Agora, com as restrições adicionadas ao solver, podemos resolver o problema."
   ]
  },
  {
   "cell_type": "code",
   "execution_count": null,
   "metadata": {},
   "outputs": [],
   "source": [
    "# Fazer o solve - Resolução\n",
    "\n",
    "status = solver.Solve()\n",
    "if status == pywraplp.Solver.OPTIMAL:\n",
    "  for p in range(P):\n",
    "    print(\"Projeto\", p+1) \n",
    "    presencas = []\n",
    "    for dia in range(D):\n",
    "      print(\"Dia {:<14}\", dia+1)\n",
    "    print()\n",
    "    for tempo in range(T):\n",
    "      for dia in range(D):\n",
    "        print(\"||\", tempo+1, end=\" || \")\n",
    "        for s in range(S):\n",
    "          if round(X[s, dia, tempo, p, Proj[p][1]].solution_value()) == 1:\n",
    "            presencas.append([c for c in range(C) if round(X[s, dia, tempo, p, c].solution_value())])\n",
    "            print(s, end=\" \")\n",
    "          else:\n",
    "            print(\"x\", end=\" \")\n",
    "      print()\n",
    "    print(presencas)\n",
    "else:\n",
    "  print(\"impossível\")"
   ]
  }
 ],
 "metadata": {
  "kernelspec": {
   "display_name": "logica",
   "language": "python",
   "name": "python3"
  },
  "language_info": {
   "codemirror_mode": {
    "name": "ipython",
    "version": 3
   },
   "file_extension": ".py",
   "mimetype": "text/x-python",
   "name": "python",
   "nbconvert_exporter": "python",
   "pygments_lexer": "ipython3",
   "version": "3.10.14"
  }
 },
 "nbformat": 4,
 "nbformat_minor": 4
}
