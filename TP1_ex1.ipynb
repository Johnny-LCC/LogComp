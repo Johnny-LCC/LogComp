{
 "cells": [
  {
   "cell_type": "markdown",
   "metadata": {},
   "source": [
    "# Trabalho Prático 1\n",
    "**Grupo 22**\n",
    "\n",
    "Alexis Correia - A102495 <br>\n",
    "João Fonseca - A102512 <br>"
   ]
  },
  {
   "cell_type": "markdown",
   "metadata": {},
   "source": [
    "\n",
    "## Exercício 1\n",
    "Pretende-se construir um `horário semanal` para o plano de reuniões de projeto de uma “StartUp” de acordo com as seguintes condições:\n",
    "\n",
    "1. Cada reunião ocupa uma **sala** (enumeradas 1...S) durante um **slot** (tempo e dia).  Assume-se os **dias** enumerados 1..D e, em cada dia, os **tempos** enumerados 1..T.\n",
    "\n",
    "2.  Cada reunião tem associado um **projeto** (enumerados 1..P) e um conjunto de participantes. Os diferentes **colaboradores** são enumerados 1..C.\n",
    "\n",
    "3. Cada projeto tem associado um conjunto de colaboradores, dos quais um  é o líder. Cada projeto realiza um dado número de reuniões semanais. São `inputs` do problema o conjunto de colaboradores de cada projeto, o seu líder e o número de reuniões semanais.\n",
    "\n",
    "4. O líder do projeto participa em todas as reuniões do seu projeto; os restantes colaboradores podem ou não participar consoante a sua disponibilidade, num mínimo (“quorum”) de  **50\\%** do total de colaboradores do projeto.  A disponibilidade de cada participante, incluindo o lider,  é um conjunto de “slots” (`inputs` do problema)."
   ]
  },
  {
   "cell_type": "markdown",
   "metadata": {},
   "source": [
    "### Resolução\n",
    "Dado que isto é um problema de Programação Inteira ou `Programação Linear` , utilizaremos a ferramenta `pywraplp` do ORTools. Agora, primeira coisa que precisamos fazer, após importar as bibliotecas necessárias, é definir algumas constantes. Além disso, optamos por criar \"inputs\" aleatórios com auxílio do random para testar o código."
   ]
  },
  {
   "cell_type": "code",
   "execution_count": null,
   "metadata": {},
   "outputs": [],
   "source": [
    "# Inicialização\n",
    "\n",
    "from ortools.linear_solver import pywraplp\n",
    "import random\n",
    "\n",
    "solver = pywraplp.Solver.CreateSolver('SCIP')\n",
    "error = pywraplp.Solver.INFEASIBLE\n",
    "\n",
    "# Constantes\n",
    "\n",
    "S, D, T = 5, 5, 8 # num de salas, dias e tempos (por dia)\n",
    "P, C, cp = 5, 30, 5 # num de projetos, de colaboradores totais e num de colaboradores por projeto\n",
    "\n",
    "# Inputs aleatórios\n",
    "\n",
    "slots = [(d, t) for d in range(D) for t in range(T)] # Slots, formados por dia e tempo\n",
    "aux = set(range(C)) # Dicionário com os colaboradores (ainda) não atribuídos a nenhum projeto\n",
    "HC = [random.sample(slots, 20) for _ in range(C)] # Horário com a disponibilidade de cada Colaborador\n",
    "\n",
    "Proj = [] # Lista dos projetos, com tuplos formados por: (num de reuniões, líder, lista de colaboradores)\n",
    "for _ in range(P):\n",
    "  cs = random.sample(aux, cp) # Seleciona colaboradores aleatórios para o projeto\n",
    "  r = random.randint(1, 5) # Decide o num de reunioes de cada projeto (de 1 a 5)\n",
    "  l = random.choice(cs) # Escolhe o líder de cada projeto dentre os colaboradores do projeto\n",
    "  Proj.append((r,l, cs)) # Adiciona a lista dos projetos\n",
    "  aux = aux - set(cs)\n",
    "    # retira os colaboradores do dicionário, garantindo que cada colaborador trabalha em apenas um projeto\n",
    "\n",
    "for i, (r, l, cs) in enumerate(Proj): #Imprime a lsita Proj\n",
    "  print(f\"Projeto {i+1}\\nNum de reuniões: {r}  Líder:{l}  Colaboradores: {cs}\")\n",
    "print()\n",
    "for c in range(30): #Imprime o horário (disponível) de todos os colaboradores\n",
    "  HC[c].sort()\n",
    "  print(f\"Colaborador {c+1}: {HC[c]}\")"
   ]
  },
  {
   "cell_type": "markdown",
   "metadata": {},
   "source": [
    "Uma vez concluído a geração automática do input, podemos começar a trabalhar com a ferramenta pywraplp. <br>\n",
    "O primeiro passo é criar a matriz multi-dimensional."
   ]
  },
  {
   "cell_type": "code",
   "execution_count": 19,
   "metadata": {},
   "outputs": [],
   "source": [
    "# Criação da matriz multi-dimensional\n",
    "X = {}\n",
    "for s in range(S):\n",
    "    for d in range(D):\n",
    "        for t in range(T):\n",
    "            for p in range(P):\n",
    "                for c in range(C):\n",
    "                    X[s,d,t,p,c] = solver.BoolVar(f\"x[{s},{d},{t},{p},{c}]\")"
   ]
  },
  {
   "cell_type": "markdown",
   "metadata": {},
   "source": [
    "Em seguida, podemos adicionar as restrições que possibilitam a resolução do problema:\n",
    "1. Cada projeto tem associado um conjunto de colaboradores, dos quais um  é o líder. Além disso, o líder do projeto participa de todas as reuniões do seu projeto. Ou seja, tomando $L_{p}$ como o líder dum projeto $p$:\n",
    "$$\n",
    "\\forall p \\in P, \\sum_{s\\in S,d\\in D,t\\in T}X_{s,d,t,p,L_p} = R\n",
    "$$\n",
    "\n",
    "2. Para além do líder, os outros colaboradores podem ou não participar consoante a sua disponibilidade. No estanto, é preciso um mínimo (“quorum”) de  50\\% do total de colaboradores do projeto na reunião.\n",
    "$$\n",
    "\\forall p \\in P,s\\in S,d\\in D,t\\in T. \\sum_{c\\in C} X_{s,d,t,p,c} \\geq C/2\n",
    "$$\n",
    "Do enunciado do problema também podemos tirar que os colaboradores só podem participar das reuniões do projeto em que participam e nos slots compatíveis com suas disponibilidades.\n",
    "\n",
    "3. $\\forall s\\in S, d\\in D, t\\in T, p\\in P, c\\in C$ se $c$ não está disponível no slot $(d,t)$ então $X[s,d,t,p,c]=0$\n",
    "\n",
    "4. $\\forall s\\in S, d\\in D, t\\in T, p\\in P, c\\in C$ se $c$ não for colaborador no projeto $p$ então $X[s,d,t,p,c]=0$\n",
    "\n",
    "Por fim, podemos afirmar que cada sala só comporta uma reunião. Ou seja, em cada slot, só pode haver, no máximo, a reunião de um projeto acontecendo numa sala.\n",
    "\n",
    "5. Primeiro, basta garantir que o líder do projeto ($c_L$) está em apenas uma sala em um determinado slot.\n",
    "$$ \\forall s\\in S, d\\in D, t\\in T. \\sum_{p\\in P} X_{s,d,t,p,c_L} \\leq 1 $$\n",
    "\n",
    "6. $$ \\forall d\\in D, t\\in T, p\\in P, c\\in C_p. \\sum_{s\\in S} X_{s,d,t,p,c} \\leq 1 $$"
   ]
  },
  {
   "cell_type": "code",
   "execution_count": 25,
   "metadata": {},
   "outputs": [],
   "source": [
    "#Restrições:\n",
    "\n",
    "# 1 - O líder tem de estar em todas as R reuniões do seu projecto\n",
    "for p in range(P):\n",
    "  solver.Add(sum(X[s, d, t, p, Proj[p][1]] for s in range(S) for d in range(D) for t in range(T)) == Proj[p][0])\n",
    "\n",
    "# 2 - Participação de 50% (com o líder incluido)\n",
    "for s in range(S):\n",
    "  for d in range(D):\n",
    "    for t in range(T):\n",
    "      for p in range(P):\n",
    "        solver.Add(sum(X[s, d, t, p, c] for c in Proj[p][2]) >= cp*0.5*X[s, d, t, p, Proj[p][1]])\n",
    "\n",
    "# 3 - Slots (d, h) fora da disponibilidade do colaborador não podem ser usados\n",
    "for s in range(S):\n",
    "  for d in range(D):\n",
    "    for t in range(T):\n",
    "      for p in range(P):\n",
    "        for c in range(C):\n",
    "          if (d, t) not in HC[c]:\n",
    "            solver.Add(X[s, d, t, p, c] == 0)\n",
    "\n",
    "# 4 - Colaboradores que não podem participar das reuniões de outros projetos\n",
    "for s in range(S):\n",
    "  for d in range(D):\n",
    "    for t in range(T):\n",
    "      for p in range(P):\n",
    "        for c in range(C):\n",
    "          if c not in Proj[p][2]:\n",
    "            solver.Add(X[s, d, t, p, c] == 0)\n",
    "\n",
    "# 5 - Cada sala tem alocada, no máximo, um projeto por slot\n",
    "for s in range(S):\n",
    "  for d in range(D):\n",
    "    for t in range(T):\n",
    "      solver.Add(sum(X[s, d, t, p, Proj[p][1]] for p in range(P)) <= 1)\n",
    "\n",
    "# 6 - Cada colaborador de um projeto só pode estar numa sala em cada slot\n",
    "for d in range(D):\n",
    "  for t in range(T):\n",
    "    for p in range(P):\n",
    "      for c in Proj[p][2]:\n",
    "        solver.Add(sum(X[s, d, t, p, c]  for s in range(S)) <= 1)"
   ]
  },
  {
   "cell_type": "markdown",
   "metadata": {},
   "source": [
    "Por fim, com as restrições devidamente adicionadas ao solver, podemos resolver o problema."
   ]
  },
  {
   "cell_type": "code",
   "execution_count": null,
   "metadata": {},
   "outputs": [],
   "source": [
    "# Fazer o solve - Resolução\n",
    "\n",
    "status = solver.Solve()\n",
    "\n",
    "if status == pywraplp.Solver.OPTIMAL:\n",
    "    for d in range(D):\n",
    "        print(\"Dia \", d+1)\n",
    "        reuniao = []\n",
    "        for s in range(S):\n",
    "            print(\"S\", s+1, end=\"     \")\n",
    "        print()\n",
    "        for t in range(T):\n",
    "            for s in range(S):\n",
    "                print(\"|T\", t+1, end='| ')\n",
    "                h = 0\n",
    "                for p in range(P):\n",
    "                    if round(X[s, d, t, p, Proj[p][1]].solution_value()) == 1:\n",
    "                        reuniao.append([c for c in range(C) if round(X[s, d, t, p, c].solution_value())])\n",
    "                        print(p+1, end=\" \")\n",
    "                        h = 1\n",
    "                if h == 0:\n",
    "                    print(\"-\", end = \" \")\n",
    "            print()\n",
    "        print(reuniao)\n",
    "else:\n",
    "    print(\"UNSAT\")"
   ]
  }
 ],
 "metadata": {
  "kernelspec": {
   "display_name": "logica",
   "language": "python",
   "name": "python3"
  },
  "language_info": {
   "codemirror_mode": {
    "name": "ipython",
    "version": 3
   },
   "file_extension": ".py",
   "mimetype": "text/x-python",
   "name": "python",
   "nbconvert_exporter": "python",
   "pygments_lexer": "ipython3",
   "version": "3.10.14"
  }
 },
 "nbformat": 4,
 "nbformat_minor": 4
}
