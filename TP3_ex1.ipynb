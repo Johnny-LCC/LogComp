{
 "cells": [
  {
   "cell_type": "markdown",
   "metadata": {},
   "source": [
    "# Trabalho Prático 3\n",
    "**Grupo 22**\n",
    "\n",
    "Alexis Correia - A102495 <br>\n",
    "João Fonseca - A102512 <br>"
   ]
  },
  {
   "cell_type": "markdown",
   "metadata": {},
   "source": [
    "## Problema 1\n",
    "\n",
    "O algoritmo estendido de Euclides (EXA) aceita dois inteiros constantes  $\\,a,b>0\\,$  e devolve inteiros $r,s,t\\,$ tais que  $\\,a*s + b*t = r\\,$  e  $\\,r = \\gcd(a,b)\\,$. \n",
    "\n",
    "> Para além das variáveis $\\,r,s,t\\,$ o código requer 3 variáveis adicionais $\\,r',s',t'\\,$ que representam os valores de $\\,r,s,t\\,$ no “próximo estado”.\n",
    "\n",
    "```Python\n",
    "{INPUT  a, b}\n",
    "{assume  a > 0 and b > 0}\n",
    "0: r, r', s, s', t, t' = a, b, 1, 0, 0, 1\n",
    "1: while r' != 0\n",
    "2:   q = r div r'\n",
    "3:   r, r', s, s', t, t' = r', r − q × r', s', s − q × s', t', t − q × t' \n",
    "{OUTPUT r, s, t}\n",
    "```\n",
    "\n",
    "1. Construa um SFOTS usando BitVector’s de tamanho $n$ que descreva o comportamento deste programa.  Considere estado de erro quando $\\,r=0\\,$ ou alguma das variáveis atinge o “overflow”.\n",
    "2. Prove, usando a metodologia dos invariantes e interpolantes, que o modelo nunca atinge o estado de erro."
   ]
  },
  {
   "cell_type": "markdown",
   "metadata": {},
   "source": [
    "## Resolução\n",
    "\n",
    "Um SFOTS é definido  por $\\:\\:\\Sigma\\;\\equiv\\;\\langle\\,\\mathsf{X}\\,,\\,\\mathsf{next}\\,,\\,\\mathsf{I}\\,,\\,\\mathsf{T}\\,,\\,\\mathsf{E}\\,\\rangle\\:\\:$. Similiar a um FOTS, os estados são constituídos pelas variáveis do programa mais o __program counter__ (pc) e, tanto o estado inicial quanto as relações de trnsição, são caracterizados por predicados. A maior diferença se encontra na existência do estado de erro."
   ]
  },
  {
   "cell_type": "markdown",
   "metadata": {},
   "source": [
    "- As variáveis do programa são: $ r $, $ r' $, $ s $, $ s' $, $ t $, $ t' $, $ q $ e não podemos nos esquecer do $ a $ e do $ b $\n",
    "- O estado inicial é caracterizado pelo predicado: $\\mathit{pc} = 0 \\wedge a \\ge 0 \\wedge b \\ge 0$\n",
    "- As transições possíveis são caracterizadas das seguintes formas:\n",
    "$$\n",
    "\\begin{array}{c}\n",
    "(\\mathit{pc}=0\\wedge a\\ge 0\\wedge b\\ge 0\\wedge\\mathit{PC}=1\\wedge A=a\\wedge B=b\\wedge R=a\\wedge R'=b\\wedge S=1\\wedge S'=0\\wedge T=0\\wedge T'=1)\n",
    "\\\\\\vee\\\\\n",
    "(\\mathit{pc}=1\\wedge r'=0\\wedge\\mathit{PC}=4\\wedge A=a\\wedge B=b\\wedge R=r\\wedge R'=r'\\wedge S=s\\wedge S'=s'\\wedge T=t\\wedge T'=t')\n",
    "\\\\\\vee\\\\\n",
    "(\\mathit{pc}=1\\wedge r'\\neq 1\\wedge\\mathit{PC}=2\\wedge A=a\\wedge B=b\\wedge R=r\\wedge R'=r'\\wedge S=s\\wedge S'=s'\\wedge T=t\\wedge T'=t')\n",
    "\\\\\\vee\\\\\n",
    "(\\mathit{pc}=2\\wedge\\mathit{PC}=3\\wedge A=a\\wedge B=b\\wedge R=r\\wedge R'=r'\\wedge S=s\\wedge S'=s'\\wedge T=t\\wedge T'=t'\\wedge q = r\\;\\;\\text{div}\\;\\; r')\n",
    "\\\\\\vee\\\\\n",
    "(\\mathit{pc}=3\\wedge\\mathit{PC}=1\\wedge A=a\\wedge B=b\\wedge R=r'\\wedge R'=r-q\\times r'\\wedge S=s'\\wedge S'=s-q\\times s'\\wedge T=t'\\wedge T'=t-q\\times t')\n",
    "\\end{array}\n",
    "$$\n",
    "- O estado de erro acontece caso haja um ``overflow`` em alguma das variáveis ou quando $ r=0 $\n",
    "\n",
    "> Repare que: nas transições, dado que as variáveis $ r' $, $ s' $ e $ t' $ são variáveis do programa, representamos as variáveis do próximo estado por letras maiúsculas."
   ]
  },
  {
   "cell_type": "code",
   "execution_count": null,
   "metadata": {},
   "outputs": [],
   "source": [
    "from pysmt.shortcuts import *\n",
    "from pysmt.typing import BVType, INT\n",
    "\n",
    "n = 32 # num bits = 4 bytes\n",
    "\n",
    "# SFOTS #\n",
    "\n",
    "def declare(i):\n",
    "    state = {}\n",
    "    state['pc'] = Symbol('pc'+str(i), INT)\n",
    "    state['a'] = Symbol('a'+str(i), BVType(n)) ###\n",
    "    state['b'] = Symbol('b'+str(i), BVType(n)) ###\n",
    "    state['r'] = Symbol('r'+str(i), BVType(n))\n",
    "    state['r\\''] = Symbol('r\\''+str(i), BVType(n))\n",
    "    state['s'] = Symbol('s'+str(i), BVType(n))\n",
    "    state['s\\''] = Symbol('s\\''+str(i), BVType(n))\n",
    "    state['t'] = Symbol('t'+str(i), BVType(n))\n",
    "    state['t\\''] = Symbol('t\\''+str(i), BVType(n))\n",
    "    state['q'] = Symbol('q'+str(i), BVType(n)) ###\n",
    "    return state\n",
    "\n",
    "def init(state):\n",
    "    A = BVSGE(state['a'], BV(0,n)) \n",
    "    B = BVSGE(state['b'], BV(0,n))\n",
    "    C = Equals(state['pc'], Int(0))\n",
    "    return And(A,B,C)\n",
    "\n",
    "def trans(curr, prox):\n",
    "    t01 = And(Equals(curr['pc'],Int(0)), BVSGE(curr['a'],BV(0,n)), BVSGE(curr['b'],BV(0,n)), Equals(prox['pc'],Int(1)),\n",
    "              Equals(prox['a'],curr['a']), Equals(prox['b'],curr['b']), Equals(prox['r'],curr['a']), Equals(prox['r\\''],curr['b']),\n",
    "              Equals(prox['s'],Int(1)), Equals(prox['s\\''],Int(0)), Equals(prox['t'],Int(0)), Equals(prox['t'], Int(1)))\n",
    "    t14 = And(Equals(curr['pc'],Int(0)), Equals(curr['r\\''], BV(0,n)), Equals(prox['pc'],Int(4)), Equals(prox['a'],curr['a']),\n",
    "              Equals(prox['b'],curr['b']), Equals(prox['r'],curr['r']), Equals(prox['r\\''],curr['r\\'']),Equals(prox['s'],curr['s']),\n",
    "              Equals(prox['s\\''],curr['s\\'']), Equals(prox['t'],curr['t']), Equals(prox['t'], curr['t\\'']))\n",
    "    t12 = And()\n",
    "    t23 = And()\n",
    "    t31 = And()\n",
    "    return Or(t01, t14, t12, t23, t31)\n",
    "\n",
    "def error(state):\n",
    "    #overflow\n",
    "    R = Equals(state['r'], BV(0, n))\n",
    "    return R # Or overflow"
   ]
  }
 ],
 "metadata": {
  "kernelspec": {
   "display_name": "logica",
   "language": "python",
   "name": "python3"
  },
  "language_info": {
   "name": "python",
   "version": "3.10.14"
  }
 },
 "nbformat": 4,
 "nbformat_minor": 2
}
