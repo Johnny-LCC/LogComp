{
 "cells": [
  {
   "cell_type": "markdown",
   "metadata": {},
   "source": [
    "# Trabalho Prático 1\n",
    "**Grupo 22**\n",
    "\n",
    "Alexis Correia - A102495 <br>\n",
    "João Fonseca - A102512"
   ]
  },
  {
   "cell_type": "markdown",
   "metadata": {},
   "source": [
    "\n",
    "## Exercício 2\n",
    "Um sistema de tráfego  é representado por um grafo orientado ligado. Os nodos denotam pontos de acesso e  os arcos denotam vias de comunicação só com um sentido .  O grafo tem de ser ligado: entre cada par de nodos  $(n_1,n_2)$ tem de existir um caminho $n_1 -> n_2$ e um caminho $n_2 -> n_1$.\n",
    "\n",
    "1. Gerar aleatoriamente o grafo com  $N \\in \\{6..10\\}$  nodos e com ramos verificando:\n",
    "    1. Cada nodo tem um número aleatório de descendentes $d \\in \\{0..3\\}$, cujos destinos são também gerados aleatoriamente.\n",
    "    2. Se  existirem “loops”  ou destinos repetidos, deve-se gerar outro grafo.\n",
    "    \n",
    "2. Pretende-se fazer  manutenção interrompendo  determinadas vias. Determinar o maior número de vias que é possível remover mantendo o grafo ligado."
   ]
  },
  {
   "cell_type": "code",
   "execution_count": 1,
   "metadata": {},
   "outputs": [],
   "source": [
    "#Inicialização\n",
    "\n",
    "import networkx as nx\n",
    "import random"
   ]
  },
  {
   "cell_type": "code",
   "execution_count": null,
   "metadata": {},
   "outputs": [],
   "source": [
    "def converte(adj):\n",
    "    graph = nx.Graph()\n",
    "    for n in adj.keys():\n",
    "        graph.add_node(n)\n",
    "        for i in adj[n]:\n",
    "            graph.add_edge(n, i)\n",
    "    return graph\n",
    "\n",
    "N = 9 #6..10\n",
    "\n",
    "random.seed(None)\n",
    "\n",
    "adj = {}\n",
    "for n in range(N):\n",
    "    adj[n] = []\n",
    "    for i in range(random.randint(0,3)):\n",
    "        d = random.randint(0,N-1) #######\n",
    "        if d == n or (d in adj[n]) or (n in adj[d]):\n",
    "            adj = {}\n",
    "            n = 0\n",
    "        else:\n",
    "            adj[n].append(d)\n",
    "print(adj)\n",
    "\n",
    "G = converte(adj)\n",
    "nx.draw(G, with_labels=True)"
   ]
  }
 ],
 "metadata": {
  "kernelspec": {
   "display_name": "Python 3 (ipykernel)",
   "language": "python",
   "name": "python3"
  },
  "language_info": {
   "codemirror_mode": {
    "name": "ipython",
    "version": 3
   },
   "file_extension": ".py",
   "mimetype": "text/x-python",
   "name": "python",
   "nbconvert_exporter": "python",
   "pygments_lexer": "ipython3",
   "version": "3.10.14"
  }
 },
 "nbformat": 4,
 "nbformat_minor": 4
}
