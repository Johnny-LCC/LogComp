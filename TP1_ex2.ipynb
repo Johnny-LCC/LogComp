{
 "cells": [
  {
   "cell_type": "markdown",
   "metadata": {},
   "source": [
    "# Trabalho Prático 1\n",
    "**Grupo 22**\n",
    "\n",
    "Alexis Correia - A102495 <br>\n",
    "João Fonseca - A102512"
   ]
  },
  {
   "cell_type": "markdown",
   "metadata": {},
   "source": [
    "\n",
    "## Exercício 2\n",
    "Um sistema de tráfego  é representado por um grafo orientado ligado. Os nodos denotam pontos de acesso e  os arcos denotam vias de comunicação só com um sentido .  O grafo tem de ser ligado: entre cada par de nodos  $(n_1,n_2)$ tem de existir um caminho $n_1 -> n_2$ e um caminho $n_2 -> n_1$.\n",
    "\n",
    "1. Gerar aleatoriamente o grafo com  $N \\in \\{6..10\\}$  nodos e com ramos verificando:\n",
    "    1. Cada nodo tem um número aleatório de descendentes $d \\in \\{0..3\\}$, cujos destinos são também gerados aleatoriamente.\n",
    "    2. Se  existirem **“loops”**  ou destinos repetidos, deve-se gerar outro grafo.\n",
    "    \n",
    "2. Pretende-se fazer  manutenção interrompendo  determinadas vias. Determinar o maior número de vias que é possível remover mantendo o grafo ligado."
   ]
  },
  {
   "cell_type": "markdown",
   "metadata": {},
   "source": [
    "### Resolução\n",
    "O primeiro passo na resolução deste problema é criar um grafo aleatório de acordo com as intruções acima. E, com auxílio das bibliotecas importadas (nomeadamente `networkx`), podemos desenhar o grafo de forma a facilitar a visualização do mesmo."
   ]
  },
  {
   "cell_type": "code",
   "execution_count": null,
   "metadata": {},
   "outputs": [],
   "source": [
    "#Inicialização\n",
    "\n",
    "import networkx as nx\n",
    "import random\n",
    "from ortools.linear_solver import pywraplp\n",
    "#Criação Grafo\n",
    "\n",
    "def ligado(adj, N): # A função confirma que o grafo criado é ligado\n",
    "    res = True\n",
    "    n = 0\n",
    "    while res and  n < N:\n",
    "        visited = set()\n",
    "        queue = [n]\n",
    "        visited.add(n)\n",
    "        while queue:\n",
    "            nodo = queue.pop(0)\n",
    "            for d in adj[nodo]:\n",
    "                if d not in visited:\n",
    "                    visited.add(d)\n",
    "                    queue.append(d)\n",
    "        if len(visited) < N:\n",
    "            res = False\n",
    "        n += 1\n",
    "    return res\n",
    "\n",
    "random.seed(None)\n",
    "\n",
    "def cria_adj(N): # Função que cria o grafo aleatóriamente de acordo com as intruções do enunciado\n",
    "    adj = {n: [] for n in range(N)}\n",
    "\n",
    "    for n in range(N): # Adiciona, no máximo, três arestas com destinos aleatórios (para cada nodo)\n",
    "        num_arestas = random.randint(1, 3) # Seleciona um número aleatório entre 1 e 3 (inclusos)\n",
    "        i = 0\n",
    "        while i < num_arestas: #o ciclo while permite selecionar outro destino para a aresta\n",
    "            d = random.randint(0, N - 1)    # se o d não obedecer aos requisitos\n",
    "            if d != n and d not in adj[n]: # Dessa forma, garantimos que não haja \"loops\" e repetições\n",
    "                adj[n].append(d)\n",
    "                i += 1\n",
    "    if not ligado(adj,N):\n",
    "        adj = cria_adj(N)\n",
    "    return adj\n",
    "\n",
    "N = 8\n",
    "adj = cria_adj(N) #Criamos um dicionário de adjacências: adj\n",
    "print(adj)\n",
    "\n",
    "G = nx.DiGraph(adj) # Criamos o grafo a partir do dicionário \"adj\"\n",
    "nx.draw(G, with_labels=True)"
   ]
  },
  {
   "cell_type": "markdown",
   "metadata": {},
   "source": [
    "Com o grafo criado de forma aleatória, podemos começar a utilizar a programação inteira para determinar quantas arestas do grafo podemos retirar de forma que o grafo permaneça ligado."
   ]
  },
  {
   "cell_type": "code",
   "execution_count": 2,
   "metadata": {},
   "outputs": [],
   "source": [
    "solver = pywraplp.Solver.CreateSolver('SCIP')\n",
    "O=D=N # Substituimos N por O ou D para facilitar a compreensão do código\n",
    "X={}\n",
    "for o in range(O):\n",
    "    for d in range(D):\n",
    "        X[o,d] = solver.BoolVar(f\"X[{o},{d}]\")"
   ]
  },
  {
   "cell_type": "markdown",
   "metadata": {},
   "source": [
    "Agora podemos adicionar as restrições necessárias:\n",
    "1. Primeiramente, não podemos adicionar novas arestas ao grafo. Logo, se uma aresta não estiver no grafo (ou seja, no dicionário de adjacências), então o valor será zero.$$ \\forall o\\in O, d\\in D. d\\notin adj[o] \\rightarrow X[o,d] = 0 $$\n",
    "Para que o grafo possa ser ligado,  como desejado, é preciso que cada nodo $n$ tenha pelo menos uma aresta cujo $n$ é origem e uma areste no qual $n$ é destino. Isso pode ser traduzido nas duas restrições a seguir:\n",
    "2. $$ \\forall o\\in N, \\sum_{d\\in N}X_{o,d} \\geq 1 $$\n",
    "3. $$ \\forall d\\in N, \\sum_{o\\in N}X_{o,d} \\geq 1 $$\n",
    "4. $$ \\forall n\\in N, \\sum_{d\\in N}X_{n,d}+\\sum_{o\\in N}X_{o,n}\\leq 3$$"
   ]
  },
  {
   "cell_type": "code",
   "execution_count": 3,
   "metadata": {},
   "outputs": [],
   "source": [
    "\n",
    "#R1\n",
    "for o in range(O):\n",
    "    for d in range(D):\n",
    "        if d not in adj[o]:\n",
    "            solver.Add(X[o,d] == 0)\n",
    "\n",
    "#R2\n",
    "for o in range(O):\n",
    "    solver.Add(sum([X[o,d] for d in range(D)])>=1)\n",
    "\n",
    "#R3\n",
    "for d in range(D):\n",
    "    solver.Add(sum([X[o,d] for o in range(O)])>=1)\n",
    "\n",
    "#R4\n",
    "for n in range(N):\n",
    "    solver.Add(sum([X[n,d] for d in range(D)])+sum([X[o,n] for o in range(O)])<=3) #2?"
   ]
  },
  {
   "cell_type": "markdown",
   "metadata": {},
   "source": [
    "Por fim, resolvemos o problema e podemos determinar quantas arestas podem ser removidas do grafo sem que o mesmo deixe de ser ligado."
   ]
  },
  {
   "cell_type": "code",
   "execution_count": null,
   "metadata": {},
   "outputs": [],
   "source": [
    "\n",
    "status = solver.Solve()\n",
    "if status == pywraplp.Solver.OPTIMAL:\n",
    "    print(\"X\", end=\" | \")\n",
    "    for d in range(N):\n",
    "        print(d, end = \" | \")\n",
    "    print()\n",
    "    aux = 0\n",
    "    ed = []\n",
    "    for o in range(N):\n",
    "        print(o, end = \" | \")\n",
    "        for d in range(N):\n",
    "            if X[o,d].solution_value() == 1:\n",
    "                print(\"1\", end = \" | \")\n",
    "                aux += 1\n",
    "                ed.append((o,d))\n",
    "            else:\n",
    "                print(\"0\", end = \" | \")\n",
    "        print()\n",
    "\n",
    "    print(f\"Início: {G.number_of_edges()} arestas\")\n",
    "    print(f\"Fim: {aux} arestas\")\n",
    "    print(f\"Resposta: Podemos fechar {G.number_of_edges()-aux} ruas\")\n",
    "\n",
    "    #print(adj)\n",
    "\n",
    "    R = nx.DiGraph(ed)\n",
    "    nx.draw(R, with_labels = True)\n",
    "else:\n",
    "    print(\"ERROR\")\n"
   ]
  }
 ],
 "metadata": {
  "kernelspec": {
   "display_name": "logica",
   "language": "python",
   "name": "python3"
  },
  "language_info": {
   "codemirror_mode": {
    "name": "ipython",
    "version": 3
   },
   "file_extension": ".py",
   "mimetype": "text/x-python",
   "name": "python",
   "nbconvert_exporter": "python",
   "pygments_lexer": "ipython3",
   "version": "3.10.14"
  }
 },
 "nbformat": 4,
 "nbformat_minor": 4
}
