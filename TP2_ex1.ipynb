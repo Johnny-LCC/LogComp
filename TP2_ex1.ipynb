{
 "cells": [
  {
   "cell_type": "markdown",
   "metadata": {},
   "source": [
    "# Trabalho Prático 2\n",
    "**Grupo 22**\n",
    "\n",
    "Alexis Correia - A102495 <br>\n",
    "João Fonseca - A102512 <br>"
   ]
  },
  {
   "cell_type": "markdown",
   "metadata": {},
   "source": [
    "## Enunciado\n",
    "Considere a descrição da cifra A5/1 que consta no documento +Lógica Computacional: a Cifra A5/1 . Informação complementar pode ser obtida no artigo da Wikipedia. \n",
    "\n",
    "Pretende-se\n",
    "1. Definir e codificar, em Z3 e usando o tipo BitVec para modelar a informação, uma FSM que descreva o gerador de chaves.\n",
    "2. Considere as seguintes eventuais propriedades de erro:\n",
    "    1. ocorrência de um “burst”  $\\,\\mathsf{0}^t\\,$  ($t$ zeros) que ocorre em   $\\,2^t\\,$ passos ou menos.\n",
    "    2. ocorrência de um “burst” de tamanho $\\,t\\,$ que repete um “burst” anterior no mesmo output em $2^{t/2}$  passos ou menos.\n",
    "    \n",
    "    Tente codificar estas propriedades e verificar se são acessíveis a partir de um estado inicial aleatoriamente gerado."
   ]
  },
  {
   "cell_type": "markdown",
   "metadata": {},
   "source": [
    "## Resolução"
   ]
  },
  {
   "cell_type": "markdown",
   "metadata": {},
   "source": [
    "Formalmente uma FSM é um triplo $\\,\\Sigma\\;\\equiv\\;\\langle Q\\,,\\,I\\,,\\,\\delta\\rangle$  em que:\n",
    "1. $Q$ é o conjunto (finito) de estados;\n",
    "2. $I$ é o conjunto de estados iniciais, logo $I\\in Q$;\n",
    "3. $\\delta$ é uma relação binária $Q\\times Q$ designida **relação de transição**;\n",
    "\n",
    "Neste caso em concreto, o númeor de estados (a cardinalidade de $Q$) é 64, pois esse é o número de ciclos no gerador de chaves da cifra A5/1. Então, começaremos com as funções ``declare``, ``init`` e ``trans``."
   ]
  },
  {
   "cell_type": "code",
   "execution_count": null,
   "metadata": {},
   "outputs": [],
   "source": [
    "from pysmt.shortcuts import *\n",
    "from pysmt.typing import BVType\n",
    "import random\n",
    "\n",
    "# Constantes\n",
    "## Tamanho de cada LFSR\n",
    "size0 = 19\n",
    "size1 = 22\n",
    "size2 = 23\n",
    "\n",
    "## Posições de bits de controle de cada LSFR\n",
    "controlBit0 = 8\n",
    "controlBit1 = 10\n",
    "controlBit2 = 10\n",
    "\n",
    "## Constantes de transição\n",
    "s0 = BV(\"1110010000000000000\", size0)\n",
    "s1 = BV(\"1100000000000000000000\", size1)\n",
    "s2 = BV(\"11100000000000010000000\", size2)\n",
    "\n",
    "def declare(i):\n",
    "    s = {}\n",
    "    s['lfsr0'] = Symbol('lfsr0_e'+str(i), BVType(size0))\n",
    "    s['lfsr1'] = Symbol('lfsr1_e'+str(i), BVType(size1))\n",
    "    s['lfsr2'] = Symbol('lfsr2_e'+str(i), BVType(size2))\n",
    "    return s\n",
    "\n",
    "def init(state): # Chave da cifra (aleatório)\n",
    "    r0 = random.getrandbits(size0)\n",
    "    A = Equals(state['lfsr0'],BV(r0, size0))\n",
    "\n",
    "    r1 = random.getrandbits(size1)\n",
    "    B = Equals(state['lfsr1'],BV(r1, size1))\n",
    "\n",
    "    r2 = random.getrandbits(size2)\n",
    "    C = Equals(state['lfsr2'],BV(r2, size2))\n",
    "    return And(A,B,C)\n",
    "\n",
    "def cBit(state):\n",
    "    c0 = BVExtract(state['lfsr0'], controlBit0, controlBit0)\n",
    "    c1 = BVExtract(state['lfsr1'], controlBit1, controlBit1)\n",
    "    c2 = BVExtract(state['lfsr2'], controlBit2, controlBit2)\n",
    "    if ((c0 & c1) | (c1 & c2) | (c0 & c2)):\n",
    "        r = BV(1,1)\n",
    "    else:\n",
    "        r = BV(0,1)\n",
    "    return r\n",
    "\n",
    "def trans(curr,prox):\n",
    "    c = cBit(curr)\n",
    "    t0 = And(Equals(BVExtract(curr['lfsr0'],controlBit0, controlBit0),c),\n",
    "             Equals(prox['lfsr0'], BVXor(BVLShl(curr['lfsr0'],1),BVXor(curr['lfsr0'],s0))))\n",
    "    t1 = And(Equals(BVExtract(curr['lfsr1'],controlBit1, controlBit1),c),\n",
    "             Equals(prox['lfsr1'], BVXor(BVLShl(curr['lfsr1'],1),BVXor(curr['lfsr1'],s1))))\n",
    "    t2 = And(Equals(BVExtract(curr['lfsr2'],controlBit2, controlBit2),c),\n",
    "             Equals(prox['lfsr2'], BVXor(BVLShl(curr['lfsr2'],1),BVXor(curr['lfsr2'],s2))))\n",
    "    \n",
    "    return Or(And(t0,t1), And(t0,t2), And(t1,t2), And(t0,t1,t2)) #Or(t0, t1, t2)# "
   ]
  },
  {
   "cell_type": "markdown",
   "metadata": {},
   "source": [
    "Para a geração de um estado inicial aleatório (conforme o enunciado requisita), utilizamos a biblioteca ``random`` e a função ``random.getrandbits(n)`` em que $n$ é o número de bits em cada **LFSR**. Além disso, criamos uma função auxiliar à ``trans`` denominada ``cBit`` que calcula o bit majoritario dentre os três bits de controlo. Essa função permite selecionar quais **LFSR** que mudarão entre o dois estados (``curr`` e ``prox``).\n",
    "\n",
    "Agora podemos partir para a função ``genTrace`` que vai de facto criar os 64 estados e escrever(imprimir) os valores de cada **LFSR** em cada estado."
   ]
  },
  {
   "cell_type": "code",
   "execution_count": null,
   "metadata": {},
   "outputs": [],
   "source": [
    "\n",
    "def genTrace(declare,init,trans): # k = 64\n",
    "    states = [declare(i) for i in range(64)]\n",
    "    solver = Solver(name = \"z3\")\n",
    "    solver.add_assertion(init(states[0]))\n",
    "    for i in range(63):\n",
    "        solver.add_assertion(trans(states[i], states[i+1]))\n",
    "    if solver.solve():\n",
    "        for i,s in enumerate(states):\n",
    "            r0 = format(solver.get_value(s['lfsr0']).constant_value(), f'0{size0}b')\n",
    "            r1 = format(solver.get_value(s['lfsr0']).constant_value(), f'0{size1}b')\n",
    "            r2 = format(solver.get_value(s['lfsr0']).constant_value(), f'0{size2}b')\n",
    "            print(f\"Estado {i}\\n lfsr0:{r0} lfsr1:{r1} lfsr2:{r2}\")\n",
    "        pass\n",
    "    else:\n",
    "        print(\"> Not feasible.\")\n",
    "    #return states\n",
    "\n",
    "genTrace(declare, init, trans)"
   ]
  }
 ],
 "metadata": {
  "kernelspec": {
   "display_name": "logica",
   "language": "python",
   "name": "python3"
  },
  "language_info": {
   "codemirror_mode": {
    "name": "ipython",
    "version": 3
   },
   "file_extension": ".py",
   "mimetype": "text/x-python",
   "name": "python",
   "nbconvert_exporter": "python",
   "pygments_lexer": "ipython3",
   "version": "3.10.14"
  }
 },
 "nbformat": 4,
 "nbformat_minor": 2
}
