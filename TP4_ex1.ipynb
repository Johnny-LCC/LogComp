{
 "cells": [
  {
   "cell_type": "markdown",
   "metadata": {},
   "source": [
    "# Trabalho Prático 4\n",
    "**Grupo 22**\n",
    "\n",
    "Alexis Correia - A102495 <br>\n",
    "João Fonseca - A102512 <br>"
   ]
  },
  {
   "cell_type": "markdown",
   "metadata": {},
   "source": [
    "## Problema 1"
   ]
  },
  {
   "cell_type": "markdown",
   "metadata": {},
   "source": [
    "### Enunciado\n",
    "No contexto do sistema de travagem ABS (“Anti-Lock Breaking System”), pretende-se construir um autómato híbrido que descreva o sistema e que  possa ser usado para verificar as suas propriedades dinâmicas.\n",
    "\n",
    "A componente discreta do autómato contém os modos:  `Start`,  `Free`,  `Stopping`, `Blocked`, e `Stopped`. No modo `Free`  não existe qualquer força de travagem; no modo `Stopping` aplica-se a força de travagem alta; no modo `Blocked` as rodas estão bloqueadas em relação ao corpo mas o veículo  desloca-se; no modo `Stopped` o veículo está imobilizado.\n",
    "\n",
    "A componente contínua  do autómato usa variáveis contínuas $\\,V,v\\,$ para descrever a  `velocidade do corpo`  do veículo em relação ao solo e a `velocidade linear das rodas` também em relação ao solo.  Assume-se que o sistema de travagem exerce uma força de atrito  nos travões proporcional à diferença das duas velocidades.  A dinâmica contínua está descrita  abaixo no bloco Equaçoes de Fluxo.\n",
    "\n",
    "1. Defina um autómato híbrido que descreva a dinâmica do sistema segundo as notas abaixo indicadas e com os “switchs” por si escolhidos. \n",
    "    Os “switchs” (“jumps”) são uma  componente de projeto deste trabalho; cabe ao aluno definir quais devem ser estas  condições de modo a que o sistema tenha um comportamento desejável: imobilize-se depressa e não “derrape” muito.\n",
    "2. Modele em lógica temporal linear LT  propriedades que caracterizam o comportamento desejável do sistema. Nomeadamente \n",
    "    1. ”o veículo imobiliza-se completamente em menos de $t$ segundos” \n",
    "    2. “a velocidade $V$ diminui sempre com o tempo”.\n",
    "3. Construa o FOTS que que descreve a discretização do  modelo  que definiu em a. e codifique em SMT’s\n",
    "4. Codifique a verificação das propriedades temporais que definiu em *b*."
   ]
  },
  {
   "cell_type": "markdown",
   "metadata": {},
   "source": [
    "![alt text](image.png)"
   ]
  },
  {
   "cell_type": "markdown",
   "metadata": {},
   "source": [
    "Equações de Fluxo \n",
    "\n",
    "1. Durante  a travagem não existe qualquer  força no sistema excepto as forças de atrito. Quando uma superfície se desloca em relação à outra, a força de atrito  é proporcional à força de compressão entre elas. \n",
    "2. No contacto rodas/solo o atrito é constante porque a força de compressão é o peso; tem-se $f = a\\cdot P$ sendo  $a$ a constante de atrito e $P$ o peso. Ambos são fixos e independentes do modo.\n",
    "3. No contacto corpo/rodas,  a força de compressão é a força de travagem que aqui se assume como proporcional à diferença de velocidades  $F =  c\\cdot (V-v)$.  A  constante de proporcionalidade $c$ depende do modo: é elevada no modo `Stopping` e baixa nos outros.\n",
    "4. Existe um atrito no contacto corpo/ar  que é aproximado por uma constante positiva $\\,b$.\n",
    "\n",
    "\n",
    "5. As equações que traduzem a dinâmica  do sistema são, em todos os modo excepto `Blocked`,\n",
    "$$\\begin{array}{rcl} \\dot{V} & = & - c\\cdot(V-v) - b\\\\ \\dot{v} & = & -a\\cdot P  + c\\cdot(V-v) \\end{array}$$   \n",
    "\n",
    "e , no modo `Blocked`,  a dinâmica do sistema é  regida por\n",
    "$$(V = v) \\;\\land\\; (\\,\\dot{V}\\,=\\, -a\\cdot P - b\\,)$$\n",
    "\n",
    "\n",
    "6. Tanto no modo `Blocked`  como no modo `Free`  existe um “timer” que impede que se permaneça nesses modo mais do que $\\,\\tau\\,$ segundos. Os $\\mathsf{jumps}(V,v,t,V',v',t')\\,$ com origem nesses modos devem forçar esta condição.\n",
    "7. No instante inicial assume-se $\\,V = v\\,=\\,V_0$  ,  em que a velocidade $V_0$ é o “input” do problema."
   ]
  },
  {
   "cell_type": "markdown",
   "metadata": {},
   "source": [
    "### Resolução\n",
    "Começamos por ..."
   ]
  },
  {
   "cell_type": "code",
   "execution_count": null,
   "metadata": {},
   "outputs": [],
   "source": []
  }
 ],
 "metadata": {
  "kernelspec": {
   "display_name": "logica",
   "language": "python",
   "name": "python3"
  },
  "language_info": {
   "name": "python",
   "version": "3.10.14"
  }
 },
 "nbformat": 4,
 "nbformat_minor": 2
}
