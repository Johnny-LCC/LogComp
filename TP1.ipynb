{
 "cells": [
  {
   "cell_type": "markdown",
   "metadata": {},
   "source": [
    "# TP1"
   ]
  },
  {
   "cell_type": "markdown",
   "metadata": {},
   "source": [
    "\n",
    "## Exercício 1\n",
    "Pretende-se construir um `horário semanal` para o plano de reuniões de projeto de uma “StartUp” de acordo com as seguintes condições:\n",
    "\n",
    "1. Cada reunião ocupa uma **sala** (enumeradas 1...S) durante um **slot** (tempo e dia).  Assume-se os **dias** enumerados 1..D e, em cada dia, os **tempos** enumerados 1..T.\n",
    "\n",
    "2.  Cada reunião tem associado um **projeto** (enumerados 1..P) e um conjunto de participantes. Os diferentes **colaboradores** são enumerados 1..C.\n",
    "\n",
    "3. Cada projeto tem associado um conjunto de colaboradores, dos quais um  é o líder. Cada projeto realiza um dado número de reuniões semanais. São `inputs` do problema o conjunto de colaboradores de cada projeto, o seu líder e o número de reuniões semanais.\n",
    "\n",
    "4. O líder do projeto participa em todas as reuniões do seu projeto; os restantes colaboradores podem ou não participar consoante a sua disponibilidade, num mínimo (“quorum”) de  **50\\%** do total de colaboradores do projeto.  A disponibilidade de cada participante, incluindo o lider,  é um conjunto de “slots” (`inputs` do problema)."
   ]
  },
  {
   "cell_type": "code",
   "execution_count": null,
   "metadata": {},
   "outputs": [],
   "source": [
    "#Inicialização\n",
    "from ortools.linear_solver import pywraplp\n",
    "\n",
    "solver = pywraplp.Solver.CreateSolver('SCIP')\n",
    "error = pywraplp.Solver.INFEASIBLE"
   ]
  },
  {
   "cell_type": "code",
   "execution_count": null,
   "metadata": {},
   "outputs": [],
   "source": [
    "#Inputs\n",
    "\n",
    "## Reuniões e colaboradores/líder ???\n",
    "## É preciso de um segundo dicionário para salvar os líderes ?"
   ]
  },
  {
   "cell_type": "code",
   "execution_count": null,
   "metadata": {},
   "outputs": [],
   "source": [
    "S,D,T = 10,5,8 #num de salas, dias e tempos\n",
    "P,C = 5,30 #num de projetos e colaboradores totais\n",
    "R = 3 #num de reuniões semanais\n",
    "\n",
    "X = {}\n",
    "for s in range(S):\n",
    "    for d in range(D):\n",
    "        for t in range(T):\n",
    "            for p in range(P):\n",
    "                for c in range(C):\n",
    "                    X[s,d,t,p,c] = solver.BoolVar(f\"x[{s},{d},{t},{p},{c}]\")"
   ]
  },
  {
   "cell_type": "markdown",
   "metadata": {},
   "source": [
    "Cada projeto tem associado um conjunto de colaboradores, dos quais um  é o líder. Além disso, o líder do projeto participa de todas as reuniões do seu projeto. Ou seja:\n",
    "$$\n",
    "\\forall p \\in P, \\exists c \\in C : \\sum_{s\\in S,d\\in D,t\\in T}X_{s,d,t,p,c} = R\n",
    "$$\n",
    "Para além do líder, os outros colaboradores podem ou não participar consoante a sua disponibilidade. No estanto, é preciso um mínimo (“quorum”) de  50\\% do total de colaboradores do projeto na reunião.\n",
    "$$\n",
    "\\forall p \\in P,s\\in S,d\\in D,t\\in T. \\sum_{c\\in C} X_{s,d,t,p,c} \\geq C/2\n",
    "$$"
   ]
  },
  {
   "cell_type": "code",
   "execution_count": null,
   "metadata": {},
   "outputs": [],
   "source": [
    "#Restrições\n",
    "\n",
    "#1\n",
    "for p in range(P):\n",
    "    solver.Add(sum(X[(s,d,t,p,c)] for s in range(S) for d in range(D) for t in range(T)) == R) #(imput)\n",
    "    \n",
    "\n",
    "\n",
    "\n",
    "\n",
    "#2\n",
    "for p in range(P):\n",
    "    for s in range(S):\n",
    "        for d in range(D):\n",
    "            for t in range(T):\n",
    "                solver.Add(sum(X[(s, d, t, p, c)] for c in range(C)) >= C / 2)\n",
    "\n"
   ]
  },
  {
   "cell_type": "markdown",
   "metadata": {},
   "source": [
    "\n",
    "## Exercício 2\n",
    "Um sistema de tráfego  é representado por um grafo orientado ligado. Os nodos denotam pontos de acesso e  os arcos denotam vias de comunicação só com um sentido .  O grafo tem de ser ligado: entre cada par de nodos  $(n_1,n_2)$ tem de existir um caminho $n_1 -> n_2$ e um caminho $n_2 -> n_1$.\n",
    "\n",
    "1. Gerar aleatoriamente o grafo com  $N \\in \\{6..10\\}$  nodos e com ramos verificando:\n",
    "    1. Cada nodo tem um número aleatório de descendentes $d \\in \\{0..3\\}$, cujos destinos são também gerados aleatoriamente.\n",
    "    2. Se  existirem “loops”  ou destinos repetidos, deve-se gerar outro grafo.\n",
    "    \n",
    "2. Pretende-se fazer  manutenção interrompendo  determinadas vias. Determinar o maior número de vias que é possível remover mantendo o grafo ligado."
   ]
  },
  {
   "cell_type": "code",
   "execution_count": 1,
   "metadata": {},
   "outputs": [],
   "source": [
    "#Inicialização\n",
    "\n",
    "import networkx as nx\n",
    "import random"
   ]
  },
  {
   "cell_type": "code",
   "execution_count": null,
   "metadata": {},
   "outputs": [],
   "source": [
    "def converte(adj):\n",
    "    graph = nx.Graph()\n",
    "    for n in adj.keys():\n",
    "        graph.add_node(n)\n",
    "        for i in adj[n]:\n",
    "            graph.add_edge(n, i)\n",
    "    return graph\n",
    "\n",
    "N = 9 #6..10\n",
    "\n",
    "random.seed(None)\n",
    "\n",
    "adj = {}\n",
    "for n in range(N):\n",
    "    adj[n] = []\n",
    "    for i in range(random.randint(0,3)):\n",
    "        d = random.randint(0,N-1) #######\n",
    "        if d == n or (d in adj[n]) or (n in adj[d]):\n",
    "            adj = {}\n",
    "            n = 0\n",
    "        else:\n",
    "            adj[n].append(d)\n",
    "print(adj)\n",
    "\n",
    "G = converte(adj)\n",
    "nx.draw(G, with_labels=True)"
   ]
  }
 ],
 "metadata": {
  "kernelspec": {
   "display_name": "Python 3 (ipykernel)",
   "language": "python",
   "name": "python3"
  },
  "language_info": {
   "codemirror_mode": {
    "name": "ipython",
    "version": 3
   },
   "file_extension": ".py",
   "mimetype": "text/x-python",
   "name": "python",
   "nbconvert_exporter": "python",
   "pygments_lexer": "ipython3",
   "version": "3.10.14"
  }
 },
 "nbformat": 4,
 "nbformat_minor": 4
}
